{
 "cells": [
  {
   "cell_type": "markdown",
   "metadata": {
    "papermill": {
     "duration": 0.037372,
     "end_time": "2020-09-27T23:36:26.495994",
     "exception": false,
     "start_time": "2020-09-27T23:36:26.458622",
     "status": "completed"
    },
    "tags": []
   },
   "source": [
    "# Imports"
   ]
  },
  {
   "cell_type": "code",
   "execution_count": 1,
   "metadata": {
    "_kg_hide-output": true,
    "execution": {
     "iopub.execute_input": "2020-09-27T23:36:26.572333Z",
     "iopub.status.busy": "2020-09-27T23:36:26.571563Z",
     "iopub.status.idle": "2020-09-27T23:36:44.400606Z",
     "shell.execute_reply": "2020-09-27T23:36:44.399919Z"
    },
    "papermill": {
     "duration": 17.870073,
     "end_time": "2020-09-27T23:36:44.400765",
     "exception": false,
     "start_time": "2020-09-27T23:36:26.530692",
     "status": "completed"
    },
    "tags": []
   },
   "outputs": [
    {
     "name": "stdout",
     "output_type": "stream",
     "text": [
      "Looking in links: ./\r\n",
      "Processing /kaggle/input/kerasapplications/keras-team-keras-applications-3b180cb\r\n",
      "Requirement already satisfied: numpy>=1.9.1 in /opt/conda/lib/python3.7/site-packages (from Keras-Applications==1.0.8) (1.18.5)\r\n",
      "Requirement already satisfied: h5py in /opt/conda/lib/python3.7/site-packages (from Keras-Applications==1.0.8) (2.10.0)\r\n",
      "Requirement already satisfied: six in /opt/conda/lib/python3.7/site-packages (from h5py->Keras-Applications==1.0.8) (1.14.0)\r\n",
      "Building wheels for collected packages: Keras-Applications\r\n",
      "  Building wheel for Keras-Applications (setup.py) ... \u001b[?25l-\b \b\\\b \bdone\r\n",
      "\u001b[?25h  Created wheel for Keras-Applications: filename=Keras_Applications-1.0.8-py3-none-any.whl size=50704 sha256=c2c9a4a661da44530ddd0abee98d8dc596dd4310fce7e2d7cdf6e114e3d7b6c2\r\n",
      "  Stored in directory: /root/.cache/pip/wheels/f4/96/13/eccdd9391bd8df958d78851b98ec4dc207ba05b67b011eb70a\r\n",
      "Successfully built Keras-Applications\r\n",
      "Installing collected packages: Keras-Applications\r\n",
      "Successfully installed Keras-Applications-1.0.8\r\n",
      "Looking in links: ./\r\n",
      "Processing /kaggle/input/efficientnet/efficientnet-1.1.0\r\n",
      "Requirement already satisfied: keras_applications<=1.0.8,>=1.0.7 in /opt/conda/lib/python3.7/site-packages (from efficientnet==1.1.0) (1.0.8)\r\n",
      "Requirement already satisfied: scikit-image in /opt/conda/lib/python3.7/site-packages (from efficientnet==1.1.0) (0.16.2)\r\n",
      "Requirement already satisfied: numpy>=1.9.1 in /opt/conda/lib/python3.7/site-packages (from keras_applications<=1.0.8,>=1.0.7->efficientnet==1.1.0) (1.18.5)\r\n",
      "Requirement already satisfied: h5py in /opt/conda/lib/python3.7/site-packages (from keras_applications<=1.0.8,>=1.0.7->efficientnet==1.1.0) (2.10.0)\r\n",
      "Requirement already satisfied: scipy>=0.19.0 in /opt/conda/lib/python3.7/site-packages (from scikit-image->efficientnet==1.1.0) (1.4.1)\r\n",
      "Requirement already satisfied: matplotlib!=3.0.0,>=2.0.0 in /opt/conda/lib/python3.7/site-packages (from scikit-image->efficientnet==1.1.0) (3.2.1)\r\n",
      "Requirement already satisfied: networkx>=2.0 in /opt/conda/lib/python3.7/site-packages (from scikit-image->efficientnet==1.1.0) (2.4)\r\n",
      "Requirement already satisfied: pillow>=4.3.0 in /opt/conda/lib/python3.7/site-packages (from scikit-image->efficientnet==1.1.0) (7.2.0)\r\n",
      "Requirement already satisfied: imageio>=2.3.0 in /opt/conda/lib/python3.7/site-packages (from scikit-image->efficientnet==1.1.0) (2.8.0)\r\n",
      "Requirement already satisfied: PyWavelets>=0.4.0 in /opt/conda/lib/python3.7/site-packages (from scikit-image->efficientnet==1.1.0) (1.1.1)\r\n",
      "Requirement already satisfied: six in /opt/conda/lib/python3.7/site-packages (from h5py->keras_applications<=1.0.8,>=1.0.7->efficientnet==1.1.0) (1.14.0)\r\n",
      "Requirement already satisfied: cycler>=0.10 in /opt/conda/lib/python3.7/site-packages (from matplotlib!=3.0.0,>=2.0.0->scikit-image->efficientnet==1.1.0) (0.10.0)\r\n",
      "Requirement already satisfied: kiwisolver>=1.0.1 in /opt/conda/lib/python3.7/site-packages (from matplotlib!=3.0.0,>=2.0.0->scikit-image->efficientnet==1.1.0) (1.2.0)\r\n",
      "Requirement already satisfied: python-dateutil>=2.1 in /opt/conda/lib/python3.7/site-packages (from matplotlib!=3.0.0,>=2.0.0->scikit-image->efficientnet==1.1.0) (2.8.1)\r\n",
      "Requirement already satisfied: pyparsing!=2.0.4,!=2.1.2,!=2.1.6,>=2.0.1 in /opt/conda/lib/python3.7/site-packages (from matplotlib!=3.0.0,>=2.0.0->scikit-image->efficientnet==1.1.0) (2.4.7)\r\n",
      "Requirement already satisfied: decorator>=4.3.0 in /opt/conda/lib/python3.7/site-packages (from networkx>=2.0->scikit-image->efficientnet==1.1.0) (4.4.2)\r\n",
      "Building wheels for collected packages: efficientnet\r\n",
      "  Building wheel for efficientnet (setup.py) ... \u001b[?25l-\b \b\\\b \bdone\r\n",
      "\u001b[?25h  Created wheel for efficientnet: filename=efficientnet-1.1.0-py3-none-any.whl size=14141 sha256=b27d0b676937b19b9e7c168eab470a3d53259acc1e2617720ac2eed41fda85d0\r\n",
      "  Stored in directory: /root/.cache/pip/wheels/24/f5/31/3cc20871288fe532128224a3f5af7b4d67efb9835bd5683522\r\n",
      "Successfully built efficientnet\r\n",
      "Installing collected packages: efficientnet\r\n",
      "Successfully installed efficientnet-1.1.0\r\n"
     ]
    }
   ],
   "source": [
    "!pip install ../input/kerasapplications/keras-team-keras-applications-3b180cb -f ./ --no-index\n",
    "!pip install ../input/efficientnet/efficientnet-1.1.0/ -f ./ --no-index"
   ]
  },
  {
   "cell_type": "code",
   "execution_count": 2,
   "metadata": {
    "_cell_guid": "79c7e3d0-c299-4dcb-8224-4455121ee9b0",
    "_uuid": "d629ff2d2480ee46fbb7e2d37f6b5fab8052498a",
    "execution": {
     "iopub.execute_input": "2020-09-27T23:36:44.500821Z",
     "iopub.status.busy": "2020-09-27T23:36:44.498509Z",
     "iopub.status.idle": "2020-09-27T23:36:51.690866Z",
     "shell.execute_reply": "2020-09-27T23:36:51.691634Z"
    },
    "papermill": {
     "duration": 7.247747,
     "end_time": "2020-09-27T23:36:51.691838",
     "exception": false,
     "start_time": "2020-09-27T23:36:44.444091",
     "status": "completed"
    },
    "tags": []
   },
   "outputs": [],
   "source": [
    "import os\n",
    "import cv2\n",
    "import pydicom\n",
    "import pandas as pd\n",
    "import numpy as np \n",
    "import tensorflow as tf \n",
    "import matplotlib.pyplot as plt \n",
    "import random\n",
    "from tqdm.notebook import tqdm \n",
    "from sklearn.model_selection import train_test_split, KFold,GroupKFold\n",
    "from sklearn.metrics import mean_absolute_error\n",
    "from tensorflow_addons.optimizers import RectifiedAdam\n",
    "from tensorflow.keras import Model\n",
    "import tensorflow.keras.backend as K\n",
    "import tensorflow.keras.layers as L\n",
    "import tensorflow.keras.models as M\n",
    "from tensorflow.keras.optimizers import Nadam\n",
    "import seaborn as sns\n",
    "from PIL import Image\n",
    "from tensorflow.keras.layers import (\n",
    "    Dense, Dropout, Activation, Flatten, Input, BatchNormalization, GlobalAveragePooling2D, Add, Conv2D, AveragePooling2D, \n",
    "    LeakyReLU, Concatenate \n",
    ")\n",
    "import efficientnet.tfkeras as efn\n",
    "\n",
    "def seed_everything(seed=2020):\n",
    "    random.seed(seed)\n",
    "    os.environ['PYTHONHASHSEED'] = str(seed)\n",
    "    np.random.seed(seed)\n",
    "    tf.random.set_seed(seed)\n",
    "    \n",
    "seed_everything(42)"
   ]
  },
  {
   "cell_type": "code",
   "execution_count": 3,
   "metadata": {
    "execution": {
     "iopub.execute_input": "2020-09-27T23:36:51.842362Z",
     "iopub.status.busy": "2020-09-27T23:36:51.841283Z",
     "iopub.status.idle": "2020-09-27T23:36:55.159239Z",
     "shell.execute_reply": "2020-09-27T23:36:55.160454Z"
    },
    "papermill": {
     "duration": 3.402898,
     "end_time": "2020-09-27T23:36:55.160598",
     "exception": false,
     "start_time": "2020-09-27T23:36:51.757700",
     "status": "completed"
    },
    "tags": []
   },
   "outputs": [],
   "source": [
    "config = tf.compat.v1.ConfigProto()\n",
    "config.gpu_options.allow_growth = True\n",
    "session = tf.compat.v1.Session(config=config)"
   ]
  },
  {
   "cell_type": "code",
   "execution_count": 4,
   "metadata": {
    "execution": {
     "iopub.execute_input": "2020-09-27T23:36:55.248731Z",
     "iopub.status.busy": "2020-09-27T23:36:55.247742Z",
     "iopub.status.idle": "2020-09-27T23:36:55.260099Z",
     "shell.execute_reply": "2020-09-27T23:36:55.259557Z"
    },
    "papermill": {
     "duration": 0.059358,
     "end_time": "2020-09-27T23:36:55.260198",
     "exception": false,
     "start_time": "2020-09-27T23:36:55.200840",
     "status": "completed"
    },
    "tags": []
   },
   "outputs": [],
   "source": [
    "train = pd.read_csv('../input/osic-pulmonary-fibrosis-progression/train.csv') "
   ]
  },
  {
   "cell_type": "markdown",
   "metadata": {
    "papermill": {
     "duration": 0.039643,
     "end_time": "2020-09-27T23:36:55.339748",
     "exception": false,
     "start_time": "2020-09-27T23:36:55.300105",
     "status": "completed"
    },
    "tags": []
   },
   "source": [
    "# Linear Decay (based on EfficientNets)"
   ]
  },
  {
   "cell_type": "code",
   "execution_count": 5,
   "metadata": {
    "execution": {
     "iopub.execute_input": "2020-09-27T23:36:55.423282Z",
     "iopub.status.busy": "2020-09-27T23:36:55.422479Z",
     "iopub.status.idle": "2020-09-27T23:36:55.425359Z",
     "shell.execute_reply": "2020-09-27T23:36:55.424888Z"
    },
    "papermill": {
     "duration": 0.046115,
     "end_time": "2020-09-27T23:36:55.425452",
     "exception": false,
     "start_time": "2020-09-27T23:36:55.379337",
     "status": "completed"
    },
    "tags": []
   },
   "outputs": [],
   "source": [
    "DROPOUT = 0.385\n",
    "FVC_WEIGHT = 0.45\n",
    "CONFIDENCE_WEIGHT = 0.3"
   ]
  },
  {
   "cell_type": "code",
   "execution_count": 6,
   "metadata": {
    "execution": {
     "iopub.execute_input": "2020-09-27T23:36:55.514843Z",
     "iopub.status.busy": "2020-09-27T23:36:55.514016Z",
     "iopub.status.idle": "2020-09-27T23:36:55.516757Z",
     "shell.execute_reply": "2020-09-27T23:36:55.516276Z"
    },
    "papermill": {
     "duration": 0.051173,
     "end_time": "2020-09-27T23:36:55.516851",
     "exception": false,
     "start_time": "2020-09-27T23:36:55.465678",
     "status": "completed"
    },
    "tags": []
   },
   "outputs": [],
   "source": [
    "def get_tab(df):\n",
    "    vector = [(df.Age.values[0] - 30) / 30] \n",
    "    \n",
    "    if df.Sex.values[0] == 'male':\n",
    "       vector.append(0)\n",
    "    else:\n",
    "       vector.append(1)\n",
    "    \n",
    "    if df.SmokingStatus.values[0] == 'Never smoked':\n",
    "        vector.extend([0,0])\n",
    "    elif df.SmokingStatus.values[0] == 'Ex-smoker':\n",
    "        vector.extend([1,1])\n",
    "    elif df.SmokingStatus.values[0] == 'Currently smokes':\n",
    "        vector.extend([0,1])\n",
    "    else:\n",
    "        vector.extend([1,0])\n",
    "    return np.array(vector) "
   ]
  },
  {
   "cell_type": "code",
   "execution_count": 7,
   "metadata": {
    "execution": {
     "iopub.execute_input": "2020-09-27T23:36:55.610688Z",
     "iopub.status.busy": "2020-09-27T23:36:55.609845Z",
     "iopub.status.idle": "2020-09-27T23:36:55.952016Z",
     "shell.execute_reply": "2020-09-27T23:36:55.952484Z"
    },
    "papermill": {
     "duration": 0.395586,
     "end_time": "2020-09-27T23:36:55.952602",
     "exception": false,
     "start_time": "2020-09-27T23:36:55.557016",
     "status": "completed"
    },
    "tags": []
   },
   "outputs": [
    {
     "data": {
      "application/vnd.jupyter.widget-view+json": {
       "model_id": "6ff63623c8654c868b1fbc8b8faa2a65",
       "version_major": 2,
       "version_minor": 0
      },
      "text/plain": [
       "HBox(children=(FloatProgress(value=1.0, bar_style='info', max=1.0), HTML(value='')))"
      ]
     },
     "metadata": {},
     "output_type": "display_data"
    },
    {
     "name": "stdout",
     "output_type": "stream",
     "text": [
      "\n"
     ]
    },
    {
     "name": "stderr",
     "output_type": "stream",
     "text": [
      "/opt/conda/lib/python3.7/site-packages/ipykernel_launcher.py:9: FutureWarning: `rcond` parameter will change to the default of machine precision times ``max(M, N)`` where M and N are the input matrix dimensions.\n",
      "To use the future default and silence this warning we advise to pass `rcond=None`, to keep using the old, explicitly pass `rcond=-1`.\n",
      "  if __name__ == '__main__':\n"
     ]
    }
   ],
   "source": [
    "A = {} \n",
    "TAB = {} \n",
    "P = [] \n",
    "for i, p in tqdm(enumerate(train.Patient.unique())):\n",
    "    sub = train.loc[train.Patient == p, :] \n",
    "    fvc = sub.FVC.values\n",
    "    weeks = sub.Weeks.values\n",
    "    c = np.vstack([weeks, np.ones(len(weeks))]).T\n",
    "    a, b = np.linalg.lstsq(c, fvc)[0]\n",
    "    \n",
    "    A[p] = a\n",
    "    TAB[p] = get_tab(sub)\n",
    "    P.append(p)"
   ]
  },
  {
   "cell_type": "markdown",
   "metadata": {
    "papermill": {
     "duration": 0.041367,
     "end_time": "2020-09-27T23:36:56.036383",
     "exception": false,
     "start_time": "2020-09-27T23:36:55.995016",
     "status": "completed"
    },
    "tags": []
   },
   "source": [
    "## CNN for coeff prediction"
   ]
  },
  {
   "cell_type": "code",
   "execution_count": 8,
   "metadata": {
    "execution": {
     "iopub.execute_input": "2020-09-27T23:36:56.124882Z",
     "iopub.status.busy": "2020-09-27T23:36:56.124242Z",
     "iopub.status.idle": "2020-09-27T23:36:56.128381Z",
     "shell.execute_reply": "2020-09-27T23:36:56.127877Z"
    },
    "papermill": {
     "duration": 0.050581,
     "end_time": "2020-09-27T23:36:56.128475",
     "exception": false,
     "start_time": "2020-09-27T23:36:56.077894",
     "status": "completed"
    },
    "tags": []
   },
   "outputs": [],
   "source": [
    "def get_img(path):\n",
    "    d = pydicom.dcmread(path)\n",
    "    return cv2.resize(d.pixel_array / 2**11, (512, 512))"
   ]
  },
  {
   "cell_type": "code",
   "execution_count": 9,
   "metadata": {
    "execution": {
     "iopub.execute_input": "2020-09-27T23:36:56.225584Z",
     "iopub.status.busy": "2020-09-27T23:36:56.224344Z",
     "iopub.status.idle": "2020-09-27T23:36:56.227911Z",
     "shell.execute_reply": "2020-09-27T23:36:56.228354Z"
    },
    "papermill": {
     "duration": 0.058481,
     "end_time": "2020-09-27T23:36:56.228466",
     "exception": false,
     "start_time": "2020-09-27T23:36:56.169985",
     "status": "completed"
    },
    "tags": []
   },
   "outputs": [],
   "source": [
    "from tensorflow.keras.utils import Sequence\n",
    "\n",
    "class IGenerator(Sequence):\n",
    "    BAD_ID = ['ID00011637202177653955184', 'ID00052637202186188008618']\n",
    "    def __init__(self, keys, a, tab, batch_size=32):\n",
    "        self.keys = [k for k in keys if k not in self.BAD_ID]\n",
    "        self.a = a\n",
    "        self.tab = tab\n",
    "        self.batch_size = batch_size\n",
    "        \n",
    "        self.train_data = {}\n",
    "        for p in train.Patient.values:\n",
    "            self.train_data[p] = os.listdir(f'../input/osic-pulmonary-fibrosis-progression/train/{p}/')\n",
    "    \n",
    "    def __len__(self):\n",
    "        return 1000\n",
    "    \n",
    "    def __getitem__(self, idx):\n",
    "        x = []\n",
    "        a, tab = [], [] \n",
    "        keys = np.random.choice(self.keys, size = self.batch_size)\n",
    "        for k in keys:\n",
    "            try:\n",
    "                i = np.random.choice(self.train_data[k], size=1)[0]\n",
    "                img = get_img(f'../input/osic-pulmonary-fibrosis-progression/train/{k}/{i}')\n",
    "                x.append(img)\n",
    "                a.append(self.a[k])\n",
    "                tab.append(self.tab[k])\n",
    "            except:\n",
    "                print(k, i)\n",
    "       \n",
    "        x,a,tab = np.array(x), np.array(a), np.array(tab)\n",
    "        x = np.expand_dims(x, axis=-1)\n",
    "        return [x, tab] , a"
   ]
  },
  {
   "cell_type": "code",
   "execution_count": 10,
   "metadata": {
    "execution": {
     "iopub.execute_input": "2020-09-27T23:36:56.321194Z",
     "iopub.status.busy": "2020-09-27T23:36:56.320589Z",
     "iopub.status.idle": "2020-09-27T23:37:51.713576Z",
     "shell.execute_reply": "2020-09-27T23:37:51.714207Z"
    },
    "papermill": {
     "duration": 55.444212,
     "end_time": "2020-09-27T23:37:51.714345",
     "exception": false,
     "start_time": "2020-09-27T23:36:56.270133",
     "status": "completed"
    },
    "tags": []
   },
   "outputs": [
    {
     "name": "stdout",
     "output_type": "stream",
     "text": [
      "Number of models: 1\n",
      "CPU times: user 54 s, sys: 1.3 s, total: 55.3 s\n",
      "Wall time: 55.3 s\n"
     ]
    }
   ],
   "source": [
    "%%time\n",
    "\n",
    "def get_efficientnet(model, shape):\n",
    "    models_dict = {\n",
    "        'b0': efn.EfficientNetB0(input_shape=shape,weights=None,include_top=False),\n",
    "        'b1': efn.EfficientNetB1(input_shape=shape,weights=None,include_top=False),\n",
    "        'b2': efn.EfficientNetB2(input_shape=shape,weights=None,include_top=False),\n",
    "        'b3': efn.EfficientNetB3(input_shape=shape,weights=None,include_top=False),\n",
    "        'b4': efn.EfficientNetB4(input_shape=shape,weights=None,include_top=False),\n",
    "        'b5': efn.EfficientNetB5(input_shape=shape,weights=None,include_top=False),\n",
    "        'b6': efn.EfficientNetB6(input_shape=shape,weights=None,include_top=False),\n",
    "        'b7': efn.EfficientNetB7(input_shape=shape,weights=None,include_top=False)\n",
    "    }\n",
    "    return models_dict[model]\n",
    "\n",
    "def build_model(shape=(512, 512, 1), model_class=None):\n",
    "    inp = Input(shape=shape)\n",
    "    base = get_efficientnet(model_class, shape)\n",
    "    x = base(inp)\n",
    "    x = GlobalAveragePooling2D()(x)\n",
    "    inp2 = Input(shape=(4,))\n",
    "    x2 = tf.keras.layers.GaussianNoise(0.2)(inp2)\n",
    "    x = Concatenate()([x, x2])\n",
    "    x = Dropout(DROPOUT)(x)\n",
    "    x = Dense(1)(x)\n",
    "    model = Model([inp, inp2] , x)\n",
    "    \n",
    "    weights = [w for w in os.listdir('../input/osic-model-weights') if model_class in w][0]\n",
    "    model.load_weights('../input/osic-model-weights/' + weights)\n",
    "    return model\n",
    "\n",
    "model_classes = ['b5'] #['b0','b1','b2','b3',b4','b5','b6','b7']\n",
    "models = [build_model(shape=(512, 512, 1), model_class=m) for m in model_classes]\n",
    "print('Number of models: ' + str(len(models)))"
   ]
  },
  {
   "cell_type": "code",
   "execution_count": 11,
   "metadata": {
    "execution": {
     "iopub.execute_input": "2020-09-27T23:37:51.804427Z",
     "iopub.status.busy": "2020-09-27T23:37:51.803723Z",
     "iopub.status.idle": "2020-09-27T23:37:51.807343Z",
     "shell.execute_reply": "2020-09-27T23:37:51.806869Z"
    },
    "papermill": {
     "duration": 0.050812,
     "end_time": "2020-09-27T23:37:51.807439",
     "exception": false,
     "start_time": "2020-09-27T23:37:51.756627",
     "status": "completed"
    },
    "tags": []
   },
   "outputs": [],
   "source": [
    "from sklearn.model_selection import train_test_split \n",
    "\n",
    "tr_p, vl_p = train_test_split(P, \n",
    "                              shuffle=True, \n",
    "                              train_size= 0.7) "
   ]
  },
  {
   "cell_type": "code",
   "execution_count": 12,
   "metadata": {
    "execution": {
     "iopub.execute_input": "2020-09-27T23:37:51.896878Z",
     "iopub.status.busy": "2020-09-27T23:37:51.896188Z",
     "iopub.status.idle": "2020-09-27T23:37:52.089865Z",
     "shell.execute_reply": "2020-09-27T23:37:52.089052Z"
    },
    "papermill": {
     "duration": 0.24005,
     "end_time": "2020-09-27T23:37:52.089974",
     "exception": false,
     "start_time": "2020-09-27T23:37:51.849924",
     "status": "completed"
    },
    "tags": []
   },
   "outputs": [
    {
     "data": {
      "image/png": "[encoded data removed]",
      "text/plain": [
       "<Figure size 432x288 with 1 Axes>"
      ]
     },
     "metadata": {
      "needs_background": "light"
     },
     "output_type": "display_data"
    }
   ],
   "source": [
    "sns.distplot(list(A.values()));"
   ]
  },
  {
   "cell_type": "code",
   "execution_count": 13,
   "metadata": {
    "execution": {
     "iopub.execute_input": "2020-09-27T23:37:52.186001Z",
     "iopub.status.busy": "2020-09-27T23:37:52.184078Z",
     "iopub.status.idle": "2020-09-27T23:37:52.186701Z",
     "shell.execute_reply": "2020-09-27T23:37:52.187210Z"
    },
    "papermill": {
     "duration": 0.053694,
     "end_time": "2020-09-27T23:37:52.187329",
     "exception": false,
     "start_time": "2020-09-27T23:37:52.133635",
     "status": "completed"
    },
    "tags": []
   },
   "outputs": [],
   "source": [
    "def score(fvc_true, fvc_pred, sigma):\n",
    "    sigma_clip = np.maximum(sigma, 70) # changed from 70, trie 66.7 too\n",
    "    delta = np.abs(fvc_true - fvc_pred)\n",
    "    delta = np.minimum(delta, 1000)\n",
    "    sq2 = np.sqrt(2)\n",
    "    metric = (delta / sigma_clip)*sq2 + np.log(sigma_clip* sq2)\n",
    "    return np.mean(metric)"
   ]
  },
  {
   "cell_type": "code",
   "execution_count": 14,
   "metadata": {
    "execution": {
     "iopub.execute_input": "2020-09-27T23:37:52.307580Z",
     "iopub.status.busy": "2020-09-27T23:37:52.287554Z",
     "iopub.status.idle": "2020-09-28T00:00:50.223218Z",
     "shell.execute_reply": "2020-09-28T00:00:50.222523Z"
    },
    "papermill": {
     "duration": 1377.992527,
     "end_time": "2020-09-28T00:00:50.223349",
     "exception": false,
     "start_time": "2020-09-27T23:37:52.230822",
     "status": "completed"
    },
    "tags": []
   },
   "outputs": [
    {
     "data": {
      "application/vnd.jupyter.widget-view+json": {
       "model_id": "ab25d2b75ffb44bc9b09a2b076cd3176",
       "version_major": 2,
       "version_minor": 0
      },
      "text/plain": [
       "HBox(children=(FloatProgress(value=0.0, max=9.0), HTML(value='')))"
      ]
     },
     "metadata": {},
     "output_type": "display_data"
    },
    {
     "name": "stdout",
     "output_type": "stream",
     "text": [
      "6.609220259931584\n",
      "6.609227143477526\n",
      "6.609229110681683\n",
      "6.609236122634357\n",
      "6.609245489793806\n",
      "6.609255830368344\n",
      "6.60925955695042\n",
      "6.609271589112036\n",
      "6.609299495249454\n",
      "\n",
      "CPU times: user 14min 58s, sys: 8min 42s, total: 23min 40s\n",
      "Wall time: 22min 57s\n"
     ]
    }
   ],
   "source": [
    "%%time\n",
    "subs = []\n",
    "for model in models:\n",
    "    metric = []\n",
    "    for q in tqdm(range(1, 10)):\n",
    "        m = []\n",
    "        for p in vl_p:\n",
    "            x = [] \n",
    "            tab = [] \n",
    "\n",
    "            ldir = os.listdir(f'../input/osic-pulmonary-fibrosis-progression/train/{p}/')\n",
    "            for i in ldir:\n",
    "                if int(i[:-4]) / len(ldir) < 0.8 and int(i[:-4]) / len(ldir) > 0.15:\n",
    "                    x.append(get_img(f'../input/osic-pulmonary-fibrosis-progression/train/{p}/{i}')) \n",
    "                    tab.append(get_tab(train.loc[train.Patient == p, :])) \n",
    "            if len(x) < 1:\n",
    "                continue\n",
    "            tab = np.array(tab) \n",
    "\n",
    "            x = np.expand_dims(x, axis=-1) \n",
    "            _a = model.predict([x, tab]) \n",
    "            a = np.quantile(_a, q / 10)\n",
    "\n",
    "            percent_true = train.Percent.values[train.Patient == p]\n",
    "            fvc_true = train.FVC.values[train.Patient == p]\n",
    "            weeks_true = train.Weeks.values[train.Patient == p]\n",
    "\n",
    "            fvc = a * (weeks_true - weeks_true[0]) + fvc_true[0]\n",
    "            percent = percent_true[0] - a * abs(weeks_true - weeks_true[0])\n",
    "            m.append(score(fvc_true, fvc, percent))\n",
    "        print(np.mean(m))\n",
    "        metric.append(np.mean(m))\n",
    "\n",
    "    q = (np.argmin(metric) + 1)/ 10\n",
    "\n",
    "    sub = pd.read_csv('../input/osic-pulmonary-fibrosis-progression/sample_submission.csv') \n",
    "    test = pd.read_csv('../input/osic-pulmonary-fibrosis-progression/test.csv') \n",
    "    A_test, B_test, P_test,W, FVC= {}, {}, {},{},{} \n",
    "    STD, WEEK = {}, {} \n",
    "    for p in test.Patient.unique():\n",
    "        x = [] \n",
    "        tab = [] \n",
    "        ldir = os.listdir(f'../input/osic-pulmonary-fibrosis-progression/test/{p}/')\n",
    "        for i in ldir:\n",
    "            if int(i[:-4]) / len(ldir) < 0.8 and int(i[:-4]) / len(ldir) > 0.15:\n",
    "                x.append(get_img(f'../input/osic-pulmonary-fibrosis-progression/test/{p}/{i}')) \n",
    "                tab.append(get_tab(test.loc[test.Patient == p, :])) \n",
    "        if len(x) <= 1:\n",
    "            continue\n",
    "        tab = np.array(tab) \n",
    "\n",
    "        x = np.expand_dims(x, axis=-1) \n",
    "        _a = model.predict([x, tab]) \n",
    "        a = np.quantile(_a, q)\n",
    "        A_test[p] = a\n",
    "        B_test[p] = test.FVC.values[test.Patient == p] - a*test.Weeks.values[test.Patient == p]\n",
    "        P_test[p] = test.Percent.values[test.Patient == p] \n",
    "        WEEK[p] = test.Weeks.values[test.Patient == p]\n",
    "\n",
    "    for k in sub.Patient_Week.values:\n",
    "        p, w = k.split('_')\n",
    "        w = int(w) \n",
    "\n",
    "        fvc = A_test[p] * w + B_test[p]\n",
    "        sub.loc[sub.Patient_Week == k, 'FVC'] = fvc\n",
    "        sub.loc[sub.Patient_Week == k, 'Confidence'] = (\n",
    "            P_test[p] - A_test[p] * abs(WEEK[p] - w) \n",
    "    ) \n",
    "\n",
    "    _sub = sub[[\"Patient_Week\",\"FVC\",\"Confidence\"]].copy()\n",
    "    subs.append(_sub)"
   ]
  },
  {
   "cell_type": "markdown",
   "metadata": {
    "papermill": {
     "duration": 0.047458,
     "end_time": "2020-09-28T00:00:50.319916",
     "exception": false,
     "start_time": "2020-09-28T00:00:50.272458",
     "status": "completed"
    },
    "tags": []
   },
   "source": [
    "## Averaging Predictions"
   ]
  },
  {
   "cell_type": "code",
   "execution_count": 15,
   "metadata": {
    "execution": {
     "iopub.execute_input": "2020-09-28T00:00:50.424035Z",
     "iopub.status.busy": "2020-09-28T00:00:50.423265Z",
     "iopub.status.idle": "2020-09-28T00:00:50.426387Z",
     "shell.execute_reply": "2020-09-28T00:00:50.425909Z"
    },
    "papermill": {
     "duration": 0.058802,
     "end_time": "2020-09-28T00:00:50.426483",
     "exception": false,
     "start_time": "2020-09-28T00:00:50.367681",
     "status": "completed"
    },
    "tags": []
   },
   "outputs": [],
   "source": [
    "N = len(subs)\n",
    "sub = subs[0].copy() # ref\n",
    "# sub[\"FVC\"] = 0\n",
    "# sub[\"Confidence\"] = 0\n",
    "# b5_confidence = 0.8\n",
    "# sub[\"FVC\"] = subs[0][\"FVC\"]*b5_confidence + subs[1][\"FVC\"]*(1-b5_confidence)\n",
    "# sub[\"Confidence\"] = subs[0][\"Confidence\"]*b5_confidence + subs[1][\"Confidence\"]*(1-b5_confidence)\n"
   ]
  },
  {
   "cell_type": "code",
   "execution_count": 16,
   "metadata": {
    "execution": {
     "iopub.execute_input": "2020-09-28T00:00:50.531484Z",
     "iopub.status.busy": "2020-09-28T00:00:50.530848Z",
     "iopub.status.idle": "2020-09-28T00:00:50.547606Z",
     "shell.execute_reply": "2020-09-28T00:00:50.547004Z"
    },
    "papermill": {
     "duration": 0.073452,
     "end_time": "2020-09-28T00:00:50.547769",
     "exception": false,
     "start_time": "2020-09-28T00:00:50.474317",
     "status": "completed"
    },
    "tags": []
   },
   "outputs": [
    {
     "data": {
      "text/html": [
       "<div>\n",
       "<style scoped>\n",
       "    .dataframe tbody tr th:only-of-type {\n",
       "        vertical-align: middle;\n",
       "    }\n",
       "\n",
       "    .dataframe tbody tr th {\n",
       "        vertical-align: top;\n",
       "    }\n",
       "\n",
       "    .dataframe thead th {\n",
       "        text-align: right;\n",
       "    }\n",
       "</style>\n",
       "<table border=\"1\" class=\"dataframe\">\n",
       "  <thead>\n",
       "    <tr style=\"text-align: right;\">\n",
       "      <th></th>\n",
       "      <th>Patient_Week</th>\n",
       "      <th>FVC</th>\n",
       "      <th>Confidence</th>\n",
       "    </tr>\n",
       "  </thead>\n",
       "  <tbody>\n",
       "    <tr>\n",
       "      <th>0</th>\n",
       "      <td>ID00419637202311204720264_-12</td>\n",
       "      <td>3092.865257</td>\n",
       "      <td>143.052113</td>\n",
       "    </tr>\n",
       "    <tr>\n",
       "      <th>1</th>\n",
       "      <td>ID00421637202311550012437_-12</td>\n",
       "      <td>2847.514586</td>\n",
       "      <td>190.559877</td>\n",
       "    </tr>\n",
       "    <tr>\n",
       "      <th>2</th>\n",
       "      <td>ID00422637202311677017371_-12</td>\n",
       "      <td>2002.671623</td>\n",
       "      <td>149.344117</td>\n",
       "    </tr>\n",
       "    <tr>\n",
       "      <th>3</th>\n",
       "      <td>ID00423637202312137826377_-12</td>\n",
       "      <td>3410.771229</td>\n",
       "      <td>196.030132</td>\n",
       "    </tr>\n",
       "    <tr>\n",
       "      <th>4</th>\n",
       "      <td>ID00426637202313170790466_-12</td>\n",
       "      <td>2971.473869</td>\n",
       "      <td>118.298837</td>\n",
       "    </tr>\n",
       "  </tbody>\n",
       "</table>\n",
       "</div>"
      ],
      "text/plain": [
       "                    Patient_Week          FVC  Confidence\n",
       "0  ID00419637202311204720264_-12  3092.865257  143.052113\n",
       "1  ID00421637202311550012437_-12  2847.514586  190.559877\n",
       "2  ID00422637202311677017371_-12  2002.671623  149.344117\n",
       "3  ID00423637202312137826377_-12  3410.771229  196.030132\n",
       "4  ID00426637202313170790466_-12  2971.473869  118.298837"
      ]
     },
     "execution_count": 16,
     "metadata": {},
     "output_type": "execute_result"
    }
   ],
   "source": [
    "sub.head()"
   ]
  },
  {
   "cell_type": "code",
   "execution_count": 17,
   "metadata": {
    "execution": {
     "iopub.execute_input": "2020-09-28T00:00:50.650237Z",
     "iopub.status.busy": "2020-09-28T00:00:50.649517Z",
     "iopub.status.idle": "2020-09-28T00:00:51.236897Z",
     "shell.execute_reply": "2020-09-28T00:00:51.235719Z"
    },
    "papermill": {
     "duration": 0.640005,
     "end_time": "2020-09-28T00:00:51.237033",
     "exception": false,
     "start_time": "2020-09-28T00:00:50.597028",
     "status": "completed"
    },
    "tags": []
   },
   "outputs": [],
   "source": [
    "sub[[\"Patient_Week\",\"FVC\",\"Confidence\"]].to_csv(\"submission_img.csv\", index=False)"
   ]
  },
  {
   "cell_type": "code",
   "execution_count": 18,
   "metadata": {
    "execution": {
     "iopub.execute_input": "2020-09-28T00:00:51.341432Z",
     "iopub.status.busy": "2020-09-28T00:00:51.340694Z",
     "iopub.status.idle": "2020-09-28T00:00:51.343775Z",
     "shell.execute_reply": "2020-09-28T00:00:51.343287Z"
    },
    "papermill": {
     "duration": 0.057363,
     "end_time": "2020-09-28T00:00:51.343874",
     "exception": false,
     "start_time": "2020-09-28T00:00:51.286511",
     "status": "completed"
    },
    "tags": []
   },
   "outputs": [],
   "source": [
    "img_sub = sub[[\"Patient_Week\",\"FVC\",\"Confidence\"]].copy()"
   ]
  },
  {
   "cell_type": "markdown",
   "metadata": {
    "papermill": {
     "duration": 0.047764,
     "end_time": "2020-09-28T00:00:51.440243",
     "exception": false,
     "start_time": "2020-09-28T00:00:51.392479",
     "status": "completed"
    },
    "tags": []
   },
   "source": [
    "# Osic-Multiple-Quantile-Regression"
   ]
  },
  {
   "cell_type": "code",
   "execution_count": 19,
   "metadata": {
    "execution": {
     "iopub.execute_input": "2020-09-28T00:00:51.548179Z",
     "iopub.status.busy": "2020-09-28T00:00:51.547378Z",
     "iopub.status.idle": "2020-09-28T00:00:51.602020Z",
     "shell.execute_reply": "2020-09-28T00:00:51.601530Z"
    },
    "papermill": {
     "duration": 0.113824,
     "end_time": "2020-09-28T00:00:51.602121",
     "exception": false,
     "start_time": "2020-09-28T00:00:51.488297",
     "status": "completed"
    },
    "tags": []
   },
   "outputs": [
    {
     "name": "stdout",
     "output_type": "stream",
     "text": [
      "add infos\n"
     ]
    }
   ],
   "source": [
    "ROOT = \"../input/osic-pulmonary-fibrosis-progression\"\n",
    "BATCH_SIZE=128\n",
    "\n",
    "tr = pd.read_csv(f\"{ROOT}/train.csv\")\n",
    "tr.drop_duplicates(keep=False, inplace=True, subset=['Patient','Weeks'])\n",
    "chunk = pd.read_csv(f\"{ROOT}/test.csv\")\n",
    "\n",
    "print(\"add infos\")\n",
    "sub = pd.read_csv(f\"{ROOT}/sample_submission.csv\")\n",
    "sub['Patient'] = sub['Patient_Week'].apply(lambda x:x.split('_')[0])\n",
    "sub['Weeks'] = sub['Patient_Week'].apply(lambda x: int(x.split('_')[-1]))\n",
    "sub =  sub[['Patient','Weeks','Confidence','Patient_Week']]\n",
    "sub = sub.merge(chunk.drop('Weeks', axis=1), on=\"Patient\")"
   ]
  },
  {
   "cell_type": "code",
   "execution_count": 20,
   "metadata": {
    "execution": {
     "iopub.execute_input": "2020-09-28T00:00:51.707684Z",
     "iopub.status.busy": "2020-09-28T00:00:51.706807Z",
     "iopub.status.idle": "2020-09-28T00:00:51.714895Z",
     "shell.execute_reply": "2020-09-28T00:00:51.714290Z"
    },
    "papermill": {
     "duration": 0.064115,
     "end_time": "2020-09-28T00:00:51.714988",
     "exception": false,
     "start_time": "2020-09-28T00:00:51.650873",
     "status": "completed"
    },
    "tags": []
   },
   "outputs": [],
   "source": [
    "tr['WHERE'] = 'train'\n",
    "chunk['WHERE'] = 'val'\n",
    "sub['WHERE'] = 'test'\n",
    "data = tr.append([chunk, sub])"
   ]
  },
  {
   "cell_type": "code",
   "execution_count": 21,
   "metadata": {
    "execution": {
     "iopub.execute_input": "2020-09-28T00:00:51.822850Z",
     "iopub.status.busy": "2020-09-28T00:00:51.821983Z",
     "iopub.status.idle": "2020-09-28T00:00:51.827775Z",
     "shell.execute_reply": "2020-09-28T00:00:51.828295Z"
    },
    "papermill": {
     "duration": 0.060693,
     "end_time": "2020-09-28T00:00:51.828402",
     "exception": false,
     "start_time": "2020-09-28T00:00:51.767709",
     "status": "completed"
    },
    "tags": []
   },
   "outputs": [
    {
     "name": "stdout",
     "output_type": "stream",
     "text": [
      "(1535, 8) (5, 8) (730, 10) (2270, 10)\n",
      "176 5 5 176\n"
     ]
    }
   ],
   "source": [
    "print(tr.shape, chunk.shape, sub.shape, data.shape)\n",
    "print(tr.Patient.nunique(), chunk.Patient.nunique(), sub.Patient.nunique(), \n",
    "      data.Patient.nunique())\n",
    "#"
   ]
  },
  {
   "cell_type": "code",
   "execution_count": 22,
   "metadata": {
    "execution": {
     "iopub.execute_input": "2020-09-28T00:00:51.936992Z",
     "iopub.status.busy": "2020-09-28T00:00:51.936154Z",
     "iopub.status.idle": "2020-09-28T00:00:51.993414Z",
     "shell.execute_reply": "2020-09-28T00:00:51.992877Z"
    },
    "papermill": {
     "duration": 0.114462,
     "end_time": "2020-09-28T00:00:51.993512",
     "exception": false,
     "start_time": "2020-09-28T00:00:51.879050",
     "status": "completed"
    },
    "tags": []
   },
   "outputs": [],
   "source": [
    "data['min_week'] = data['Weeks']\n",
    "data.loc[data.WHERE=='test','min_week'] = np.nan\n",
    "data['min_week'] = data.groupby('Patient')['min_week'].transform('min')\n",
    "data['avg_percent'] = data.groupby(['Patient', 'WHERE'])['Percent'].transform('mean')"
   ]
  },
  {
   "cell_type": "code",
   "execution_count": 23,
   "metadata": {
    "execution": {
     "iopub.execute_input": "2020-09-28T00:00:52.102473Z",
     "iopub.status.busy": "2020-09-28T00:00:52.101594Z",
     "iopub.status.idle": "2020-09-28T00:00:52.113352Z",
     "shell.execute_reply": "2020-09-28T00:00:52.112883Z"
    },
    "papermill": {
     "duration": 0.068161,
     "end_time": "2020-09-28T00:00:52.113448",
     "exception": false,
     "start_time": "2020-09-28T00:00:52.045287",
     "status": "completed"
    },
    "tags": []
   },
   "outputs": [],
   "source": [
    "base = data.loc[data.Weeks == data.min_week]\n",
    "base = base[['Patient','FVC']].copy()\n",
    "base.columns = ['Patient','min_FVC']\n",
    "base['nb'] = 1\n",
    "base['nb'] = base.groupby('Patient')['nb'].transform('cumsum')\n",
    "base = base[base.nb==1]\n",
    "base.drop('nb', axis=1, inplace=True)"
   ]
  },
  {
   "cell_type": "code",
   "execution_count": 24,
   "metadata": {
    "execution": {
     "iopub.execute_input": "2020-09-28T00:00:52.219272Z",
     "iopub.status.busy": "2020-09-28T00:00:52.218694Z",
     "iopub.status.idle": "2020-09-28T00:00:53.086950Z",
     "shell.execute_reply": "2020-09-28T00:00:53.084891Z"
    },
    "papermill": {
     "duration": 0.923812,
     "end_time": "2020-09-28T00:00:53.087089",
     "exception": false,
     "start_time": "2020-09-28T00:00:52.163277",
     "status": "completed"
    },
    "tags": []
   },
   "outputs": [],
   "source": [
    "data = data.merge(base, on='Patient', how='left')\n",
    "data['base_week'] = data['Weeks'] - data['min_week']\n",
    "del base"
   ]
  },
  {
   "cell_type": "code",
   "execution_count": 25,
   "metadata": {
    "execution": {
     "iopub.execute_input": "2020-09-28T00:00:53.259534Z",
     "iopub.status.busy": "2020-09-28T00:00:53.258625Z",
     "iopub.status.idle": "2020-09-28T00:00:53.271422Z",
     "shell.execute_reply": "2020-09-28T00:00:53.272182Z"
    },
    "papermill": {
     "duration": 0.099446,
     "end_time": "2020-09-28T00:00:53.272314",
     "exception": false,
     "start_time": "2020-09-28T00:00:53.172868",
     "status": "completed"
    },
    "tags": []
   },
   "outputs": [],
   "source": [
    "COLS = ['Sex','SmokingStatus'] #,'Age'\n",
    "FE = []\n",
    "for col in COLS:\n",
    "    for mod in data[col].unique():\n",
    "        FE.append(mod)\n",
    "        data[mod] = (data[col] == mod).astype(int)"
   ]
  },
  {
   "cell_type": "code",
   "execution_count": 26,
   "metadata": {
    "execution": {
     "iopub.execute_input": "2020-09-28T00:00:53.427696Z",
     "iopub.status.busy": "2020-09-28T00:00:53.426893Z",
     "iopub.status.idle": "2020-09-28T00:00:53.443103Z",
     "shell.execute_reply": "2020-09-28T00:00:53.443938Z"
    },
    "papermill": {
     "duration": 0.09801,
     "end_time": "2020-09-28T00:00:53.444062",
     "exception": false,
     "start_time": "2020-09-28T00:00:53.346052",
     "status": "completed"
    },
    "tags": []
   },
   "outputs": [],
   "source": [
    "#\n",
    "data['age'] = (data['Age'] - data['Age'].min() ) / ( data['Age'].max() - data['Age'].min() )\n",
    "data['BASE'] = (data['min_FVC'] - data['min_FVC'].min() ) / ( data['min_FVC'].max() - data['min_FVC'].min() )\n",
    "data['week'] = (data['base_week'] - data['base_week'].min() ) / ( data['base_week'].max() - data['base_week'].min() )\n",
    "# data['percent'] = (data['Percent'] - data['Percent'].min() ) / ( data['Percent'].max() - data['Percent'].min() )\n",
    "data['percent'] = (data['avg_percent'] - data['avg_percent'].min() ) / ( data['avg_percent'].max() - data['avg_percent'].min() )\n",
    "FE += ['age','percent','week','BASE']"
   ]
  },
  {
   "cell_type": "code",
   "execution_count": 27,
   "metadata": {
    "execution": {
     "iopub.execute_input": "2020-09-28T00:00:53.600934Z",
     "iopub.status.busy": "2020-09-28T00:00:53.600046Z",
     "iopub.status.idle": "2020-09-28T00:00:53.607200Z",
     "shell.execute_reply": "2020-09-28T00:00:53.606560Z"
    },
    "papermill": {
     "duration": 0.09202,
     "end_time": "2020-09-28T00:00:53.607301",
     "exception": false,
     "start_time": "2020-09-28T00:00:53.515281",
     "status": "completed"
    },
    "tags": []
   },
   "outputs": [],
   "source": [
    "tr = data.loc[data.WHERE=='train']\n",
    "chunk = data.loc[data.WHERE=='val']\n",
    "sub = data.loc[data.WHERE=='test']\n",
    "del data"
   ]
  },
  {
   "cell_type": "code",
   "execution_count": 28,
   "metadata": {
    "execution": {
     "iopub.execute_input": "2020-09-28T00:00:53.712843Z",
     "iopub.status.busy": "2020-09-28T00:00:53.712024Z",
     "iopub.status.idle": "2020-09-28T00:00:53.714725Z",
     "shell.execute_reply": "2020-09-28T00:00:53.714248Z"
    },
    "papermill": {
     "duration": 0.057208,
     "end_time": "2020-09-28T00:00:53.714831",
     "exception": false,
     "start_time": "2020-09-28T00:00:53.657623",
     "status": "completed"
    },
    "tags": []
   },
   "outputs": [],
   "source": [
    "categories = ['Male',\n",
    " 'Female',\n",
    " 'Ex-smoker',\n",
    " 'Never smoked',\n",
    " 'Currently smokes',\n",
    " 'age',\n",
    " 'percent']\n",
    "continous = [\n",
    "\n",
    " 'week',\n",
    " 'BASE'\n",
    "]"
   ]
  },
  {
   "cell_type": "code",
   "execution_count": 29,
   "metadata": {
    "execution": {
     "iopub.execute_input": "2020-09-28T00:00:53.832647Z",
     "iopub.status.busy": "2020-09-28T00:00:53.831887Z",
     "iopub.status.idle": "2020-09-28T00:00:53.835116Z",
     "shell.execute_reply": "2020-09-28T00:00:53.835549Z"
    },
    "papermill": {
     "duration": 0.070135,
     "end_time": "2020-09-28T00:00:53.835678",
     "exception": false,
     "start_time": "2020-09-28T00:00:53.765543",
     "status": "completed"
    },
    "tags": []
   },
   "outputs": [
    {
     "data": {
      "text/plain": [
       "((1535, 23), (5, 23), (730, 23))"
      ]
     },
     "execution_count": 29,
     "metadata": {},
     "output_type": "execute_result"
    }
   ],
   "source": [
    "tr.shape, chunk.shape, sub.shape"
   ]
  },
  {
   "cell_type": "markdown",
   "metadata": {
    "papermill": {
     "duration": 0.050315,
     "end_time": "2020-09-28T00:00:53.936576",
     "exception": false,
     "start_time": "2020-09-28T00:00:53.886261",
     "status": "completed"
    },
    "tags": []
   },
   "source": [
    "# The change of mloss\n",
    "\n",
    "Here is where I tuned the `mloss` from 0.8 to 0.65. You can try a grid-search to maybe find an optimal value - however, I have only tried a very few choices like 0.65, 0.7 and 0.75."
   ]
  },
  {
   "cell_type": "code",
   "execution_count": 30,
   "metadata": {
    "execution": {
     "iopub.execute_input": "2020-09-28T00:00:54.065450Z",
     "iopub.status.busy": "2020-09-28T00:00:54.063655Z",
     "iopub.status.idle": "2020-09-28T00:00:54.068178Z",
     "shell.execute_reply": "2020-09-28T00:00:54.067714Z"
    },
    "papermill": {
     "duration": 0.080076,
     "end_time": "2020-09-28T00:00:54.068269",
     "exception": false,
     "start_time": "2020-09-28T00:00:53.988193",
     "status": "completed"
    },
    "tags": []
   },
   "outputs": [],
   "source": [
    "C1, C2 = tf.constant(70, dtype='float32'), tf.constant(1000, dtype=\"float32\")\n",
    "\n",
    "def score(y_true, y_pred):\n",
    "    tf.dtypes.cast(y_true, tf.float32)\n",
    "    tf.dtypes.cast(y_pred, tf.float32)\n",
    "    sigma = y_pred[:, 2] - y_pred[:, 0]\n",
    "    fvc_pred = y_pred[:, 1]\n",
    "    \n",
    "    #sigma_clip = sigma + C1\n",
    "    sigma_clip = tf.maximum(sigma, C1)\n",
    "    delta = tf.abs(y_true[:, 0] - fvc_pred)\n",
    "    delta = tf.minimum(delta, C2)\n",
    "    sq2 = tf.sqrt( tf.dtypes.cast(2, dtype=tf.float32) )\n",
    "    metric = (delta / sigma_clip)*sq2 + tf.math.log(sigma_clip* sq2)\n",
    "    return K.mean(metric)\n",
    "\n",
    "def qloss(y_true, y_pred):\n",
    "    # Pinball loss for multiple quantiles\n",
    "    qs = [0.2, 0.50, 0.8]\n",
    "    q = tf.constant(np.array([qs]), dtype=tf.float32)\n",
    "    e = y_true - y_pred\n",
    "    v = tf.maximum(q*e, (q-1)*e)\n",
    "    return K.mean(v)\n",
    "\n",
    "def mloss(_lambda):\n",
    "    def loss(y_true, y_pred):\n",
    "        return _lambda * qloss(y_true, y_pred) + (1 - _lambda)*score(y_true, y_pred)\n",
    "    return loss\n",
    "\n",
    "def make_model(shape1, shape2):\n",
    "    z1 = L.Input((shape1,), name=\"Category\")\n",
    "    z2 = L.Input((shape2,), name=\"Continuous\")\n",
    "    encode1 = L.Dense(30, activation=\"relu\", name='encode1')(z1)\n",
    "    encode2 = L.Dense(20, activation='relu', name='encode2')(z2)\n",
    "    z = L.Concatenate()([encode1, encode2])\n",
    "#     x = L.Dense(60, activation=\"relu\", name=\"d1\")(z)\n",
    "#     x = L.Dense(60, activation=\"relu\", name=\"d2\")(z)\n",
    "#     x = L.Dropout(0.1)(x)\n",
    "    x = L.Dense(100, activation=\"relu\", name=\"d3\")(z)\n",
    "    x = L.Dense(100, activation=\"relu\", name=\"d4\")(x)\n",
    "    p1 = L.Dense(3, activation=\"linear\", name=\"p1\")(x)\n",
    "    p2 = L.Dense(3, activation=\"relu\", name=\"p2\")(x)\n",
    "    preds = L.Lambda(lambda x: x[0] + tf.cumsum(x[1], axis=1), \n",
    "                     name=\"preds\")([p1, p2])\n",
    "    \n",
    "    model = M.Model([z1, z2], preds, name=\"CNN\")\n",
    "    model.compile(loss=mloss(0.65), optimizer=tf.keras.optimizers.Adam(lr=0.05, beta_1=0.9, beta_2=0.999, epsilon=None, decay=0.01, amsgrad=False), metrics=[score])\n",
    "    return model"
   ]
  },
  {
   "cell_type": "code",
   "execution_count": 31,
   "metadata": {
    "execution": {
     "iopub.execute_input": "2020-09-28T00:00:54.183713Z",
     "iopub.status.busy": "2020-09-28T00:00:54.182510Z",
     "iopub.status.idle": "2020-09-28T00:00:54.185681Z",
     "shell.execute_reply": "2020-09-28T00:00:54.185209Z"
    },
    "papermill": {
     "duration": 0.066751,
     "end_time": "2020-09-28T00:00:54.185774",
     "exception": false,
     "start_time": "2020-09-28T00:00:54.119023",
     "status": "completed"
    },
    "tags": []
   },
   "outputs": [],
   "source": [
    "y = tr['FVC'].astype(float).values\n",
    "z1 = tr[categories].values\n",
    "z2 = tr[continous].values\n",
    "ze1 = sub[categories].values\n",
    "ze2 = sub[continous].values\n",
    "shape1 = z1.shape[1]\n",
    "shape2 = z2.shape[1]\n",
    "pe = np.zeros((ze1.shape[0], 3))\n",
    "pred = np.zeros((z1.shape[0], 3))"
   ]
  },
  {
   "cell_type": "code",
   "execution_count": 32,
   "metadata": {
    "execution": {
     "iopub.execute_input": "2020-09-28T00:00:54.297297Z",
     "iopub.status.busy": "2020-09-28T00:00:54.296456Z",
     "iopub.status.idle": "2020-09-28T00:00:54.610239Z",
     "shell.execute_reply": "2020-09-28T00:00:54.609493Z"
    },
    "papermill": {
     "duration": 0.373604,
     "end_time": "2020-09-28T00:00:54.610413",
     "exception": false,
     "start_time": "2020-09-28T00:00:54.236809",
     "status": "completed"
    },
    "tags": []
   },
   "outputs": [
    {
     "name": "stdout",
     "output_type": "stream",
     "text": [
      "Model: \"CNN\"\n",
      "__________________________________________________________________________________________________\n",
      "Layer (type)                    Output Shape         Param #     Connected to                     \n",
      "==================================================================================================\n",
      "Category (InputLayer)           [(None, 7)]          0                                            \n",
      "__________________________________________________________________________________________________\n",
      "Continuous (InputLayer)         [(None, 2)]          0                                            \n",
      "__________________________________________________________________________________________________\n",
      "encode1 (Dense)                 (None, 30)           240         Category[0][0]                   \n",
      "__________________________________________________________________________________________________\n",
      "encode2 (Dense)                 (None, 20)           60          Continuous[0][0]                 \n",
      "__________________________________________________________________________________________________\n",
      "concatenate_1 (Concatenate)     (None, 50)           0           encode1[0][0]                    \n",
      "                                                                 encode2[0][0]                    \n",
      "__________________________________________________________________________________________________\n",
      "d3 (Dense)                      (None, 100)          5100        concatenate_1[0][0]              \n",
      "__________________________________________________________________________________________________\n",
      "d4 (Dense)                      (None, 100)          10100       d3[0][0]                         \n",
      "__________________________________________________________________________________________________\n",
      "p1 (Dense)                      (None, 3)            303         d4[0][0]                         \n",
      "__________________________________________________________________________________________________\n",
      "p2 (Dense)                      (None, 3)            303         d4[0][0]                         \n",
      "__________________________________________________________________________________________________\n",
      "preds (Lambda)                  (None, 3)            0           p1[0][0]                         \n",
      "                                                                 p2[0][0]                         \n",
      "==================================================================================================\n",
      "Total params: 16,106\n",
      "Trainable params: 16,106\n",
      "Non-trainable params: 0\n",
      "__________________________________________________________________________________________________\n",
      "None\n",
      "16106\n"
     ]
    }
   ],
   "source": [
    "net = make_model(shape1, shape2)\n",
    "print(net.summary())\n",
    "print(net.count_params())"
   ]
  },
  {
   "cell_type": "code",
   "execution_count": 33,
   "metadata": {
    "execution": {
     "iopub.execute_input": "2020-09-28T00:00:54.718965Z",
     "iopub.status.busy": "2020-09-28T00:00:54.718192Z",
     "iopub.status.idle": "2020-09-28T00:00:54.721896Z",
     "shell.execute_reply": "2020-09-28T00:00:54.722404Z"
    },
    "papermill": {
     "duration": 0.060122,
     "end_time": "2020-09-28T00:00:54.722518",
     "exception": false,
     "start_time": "2020-09-28T00:00:54.662396",
     "status": "completed"
    },
    "tags": []
   },
   "outputs": [],
   "source": [
    "NFOLD = 5 # originally 5\n",
    "kf = KFold(n_splits=NFOLD, shuffle=True, random_state=42)\n",
    "gkf = GroupKFold(n_splits=NFOLD)"
   ]
  },
  {
   "cell_type": "code",
   "execution_count": 34,
   "metadata": {
    "execution": {
     "iopub.execute_input": "2020-09-28T00:00:54.875365Z",
     "iopub.status.busy": "2020-09-28T00:00:54.873638Z",
     "iopub.status.idle": "2020-09-28T00:05:39.382848Z",
     "shell.execute_reply": "2020-09-28T00:05:39.383566Z"
    },
    "papermill": {
     "duration": 284.571962,
     "end_time": "2020-09-28T00:05:39.383789",
     "exception": false,
     "start_time": "2020-09-28T00:00:54.811827",
     "status": "completed"
    },
    "tags": []
   },
   "outputs": [
    {
     "name": "stdout",
     "output_type": "stream",
     "text": [
      "FOLD 1\n",
      "train [39.30557632446289, 6.618039608001709]\n",
      "val [40.211456298828125, 6.660272121429443]\n",
      "predict val...\n",
      "predict test...\n",
      "FOLD 2\n",
      "train [37.27987289428711, 6.58359432220459]\n",
      "val [51.96007537841797, 6.924967288970947]\n",
      "predict val...\n",
      "predict test...\n",
      "FOLD 3\n",
      "train [39.385929107666016, 6.6278862953186035]\n",
      "val [43.26850128173828, 6.754028797149658]\n",
      "predict val...\n",
      "predict test...\n",
      "FOLD 4\n",
      "train [39.872920989990234, 6.6457672119140625]\n",
      "val [43.000240325927734, 6.702547073364258]\n",
      "predict val...\n",
      "predict test...\n",
      "FOLD 5\n",
      "train [39.355777740478516, 6.632089138031006]\n",
      "val [41.51389694213867, 6.664757251739502]\n",
      "predict val...\n",
      "predict test...\n",
      "CPU times: user 5min 12s, sys: 19.2 s, total: 5min 31s\n",
      "Wall time: 4min 44s\n"
     ]
    }
   ],
   "source": [
    "%%time\n",
    "cnt = 0\n",
    "EPOCHS = 950\n",
    "for tr_idx, val_idx in gkf.split(z1, y, groups=tr.Patient):\n",
    "    cnt += 1\n",
    "    print(f\"FOLD {cnt}\")\n",
    "    net = make_model(shape1, shape2)\n",
    "    net.fit([z1[tr_idx], z2[tr_idx]], y[tr_idx], batch_size=BATCH_SIZE, epochs=EPOCHS, \n",
    "            validation_data=([z1[val_idx], z2[val_idx]], y[val_idx]), verbose=0) #\n",
    "    print(\"train\", net.evaluate([z1[tr_idx], z2[tr_idx]], y[tr_idx], verbose=0, batch_size=BATCH_SIZE))\n",
    "    print(\"val\", net.evaluate([z1[val_idx], z2[val_idx]], y[val_idx], verbose=0, batch_size=BATCH_SIZE))\n",
    "    print(\"predict val...\")\n",
    "    pred[val_idx] = net.predict([z1[val_idx], z2[val_idx]], batch_size=BATCH_SIZE, verbose=0)\n",
    "    print(\"predict test...\")\n",
    "    pe += net.predict([ze1, ze2], batch_size=BATCH_SIZE, verbose=0) / NFOLD"
   ]
  },
  {
   "cell_type": "code",
   "execution_count": 35,
   "metadata": {
    "execution": {
     "iopub.execute_input": "2020-09-28T00:05:39.571557Z",
     "iopub.status.busy": "2020-09-28T00:05:39.566793Z",
     "iopub.status.idle": "2020-09-28T00:05:39.576880Z",
     "shell.execute_reply": "2020-09-28T00:05:39.577607Z"
    },
    "papermill": {
     "duration": 0.115578,
     "end_time": "2020-09-28T00:05:39.577876",
     "exception": false,
     "start_time": "2020-09-28T00:05:39.462298",
     "status": "completed"
    },
    "tags": []
   },
   "outputs": [
    {
     "name": "stdout",
     "output_type": "stream",
     "text": [
      "152.57208375216308 247.5917591803237\n"
     ]
    }
   ],
   "source": [
    "sigma_opt = mean_absolute_error(y, pred[:, 1])\n",
    "unc = pred[:,2] - pred[:, 0]\n",
    "sigma_mean = np.mean(unc)\n",
    "print(sigma_opt, sigma_mean)"
   ]
  },
  {
   "cell_type": "code",
   "execution_count": 36,
   "metadata": {
    "execution": {
     "iopub.execute_input": "2020-09-28T00:05:39.779785Z",
     "iopub.status.busy": "2020-09-28T00:05:39.778801Z",
     "iopub.status.idle": "2020-09-28T00:05:40.114491Z",
     "shell.execute_reply": "2020-09-28T00:05:40.113132Z"
    },
    "papermill": {
     "duration": 0.443342,
     "end_time": "2020-09-28T00:05:40.114640",
     "exception": false,
     "start_time": "2020-09-28T00:05:39.671298",
     "status": "completed"
    },
    "tags": []
   },
   "outputs": [
    {
     "data": {
      "image/png": "[encoded data removed]",
      "text/plain": [
       "<Figure size 432x288 with 1 Axes>"
      ]
     },
     "metadata": {
      "needs_background": "light"
     },
     "output_type": "display_data"
    }
   ],
   "source": [
    "idxs = np.random.randint(0, y.shape[0], 100)\n",
    "plt.plot(y[idxs], label=\"ground truth\")\n",
    "plt.plot(pred[idxs, 0], label=\"q25\")\n",
    "plt.plot(pred[idxs, 1], label=\"q50\")\n",
    "plt.plot(pred[idxs, 2], label=\"q75\")\n",
    "plt.legend(loc=\"best\")\n",
    "plt.show()"
   ]
  },
  {
   "cell_type": "code",
   "execution_count": 37,
   "metadata": {
    "execution": {
     "iopub.execute_input": "2020-09-28T00:05:40.242212Z",
     "iopub.status.busy": "2020-09-28T00:05:40.240713Z",
     "iopub.status.idle": "2020-09-28T00:05:40.244698Z",
     "shell.execute_reply": "2020-09-28T00:05:40.242843Z"
    },
    "papermill": {
     "duration": 0.070461,
     "end_time": "2020-09-28T00:05:40.244839",
     "exception": false,
     "start_time": "2020-09-28T00:05:40.174378",
     "status": "completed"
    },
    "tags": []
   },
   "outputs": [
    {
     "name": "stdout",
     "output_type": "stream",
     "text": [
      "132.3284912109375 247.5917591803237 397.68359375 1.0\n"
     ]
    }
   ],
   "source": [
    "print(unc.min(), unc.mean(), unc.max(), (unc>=0).mean())"
   ]
  },
  {
   "cell_type": "code",
   "execution_count": 38,
   "metadata": {
    "execution": {
     "iopub.execute_input": "2020-09-28T00:05:40.379046Z",
     "iopub.status.busy": "2020-09-28T00:05:40.378196Z",
     "iopub.status.idle": "2020-09-28T00:05:40.535541Z",
     "shell.execute_reply": "2020-09-28T00:05:40.534874Z"
    },
    "papermill": {
     "duration": 0.231078,
     "end_time": "2020-09-28T00:05:40.535681",
     "exception": false,
     "start_time": "2020-09-28T00:05:40.304603",
     "status": "completed"
    },
    "tags": []
   },
   "outputs": [
    {
     "data": {
      "image/png": "[encoded data removed]",
      "text/plain": [
       "<Figure size 432x288 with 1 Axes>"
      ]
     },
     "metadata": {
      "needs_background": "light"
     },
     "output_type": "display_data"
    }
   ],
   "source": [
    "plt.hist(unc)\n",
    "plt.title(\"uncertainty in prediction\")\n",
    "plt.show()"
   ]
  },
  {
   "cell_type": "code",
   "execution_count": 39,
   "metadata": {
    "execution": {
     "iopub.execute_input": "2020-09-28T00:05:40.684929Z",
     "iopub.status.busy": "2020-09-28T00:05:40.683977Z",
     "iopub.status.idle": "2020-09-28T00:05:40.689145Z",
     "shell.execute_reply": "2020-09-28T00:05:40.688594Z"
    },
    "papermill": {
     "duration": 0.09341,
     "end_time": "2020-09-28T00:05:40.689234",
     "exception": false,
     "start_time": "2020-09-28T00:05:40.595824",
     "status": "completed"
    },
    "tags": []
   },
   "outputs": [
    {
     "data": {
      "text/html": [
       "<div>\n",
       "<style scoped>\n",
       "    .dataframe tbody tr th:only-of-type {\n",
       "        vertical-align: middle;\n",
       "    }\n",
       "\n",
       "    .dataframe tbody tr th {\n",
       "        vertical-align: top;\n",
       "    }\n",
       "\n",
       "    .dataframe thead th {\n",
       "        text-align: right;\n",
       "    }\n",
       "</style>\n",
       "<table border=\"1\" class=\"dataframe\">\n",
       "  <thead>\n",
       "    <tr style=\"text-align: right;\">\n",
       "      <th></th>\n",
       "      <th>Patient</th>\n",
       "      <th>Weeks</th>\n",
       "      <th>FVC</th>\n",
       "      <th>Percent</th>\n",
       "      <th>Age</th>\n",
       "      <th>Sex</th>\n",
       "      <th>SmokingStatus</th>\n",
       "      <th>WHERE</th>\n",
       "      <th>Confidence</th>\n",
       "      <th>Patient_Week</th>\n",
       "      <th>...</th>\n",
       "      <th>base_week</th>\n",
       "      <th>Male</th>\n",
       "      <th>Female</th>\n",
       "      <th>Ex-smoker</th>\n",
       "      <th>Never smoked</th>\n",
       "      <th>Currently smokes</th>\n",
       "      <th>age</th>\n",
       "      <th>BASE</th>\n",
       "      <th>week</th>\n",
       "      <th>percent</th>\n",
       "    </tr>\n",
       "  </thead>\n",
       "  <tbody>\n",
       "    <tr>\n",
       "      <th>1540</th>\n",
       "      <td>ID00419637202311204720264</td>\n",
       "      <td>-12</td>\n",
       "      <td>3020</td>\n",
       "      <td>70.186855</td>\n",
       "      <td>73</td>\n",
       "      <td>Male</td>\n",
       "      <td>Ex-smoker</td>\n",
       "      <td>test</td>\n",
       "      <td>100.0</td>\n",
       "      <td>ID00419637202311204720264_-12</td>\n",
       "      <td>...</td>\n",
       "      <td>-18.0</td>\n",
       "      <td>1</td>\n",
       "      <td>0</td>\n",
       "      <td>1</td>\n",
       "      <td>0</td>\n",
       "      <td>0</td>\n",
       "      <td>0.615385</td>\n",
       "      <td>0.3724</td>\n",
       "      <td>0.067901</td>\n",
       "      <td>0.254116</td>\n",
       "    </tr>\n",
       "    <tr>\n",
       "      <th>1541</th>\n",
       "      <td>ID00419637202311204720264</td>\n",
       "      <td>-11</td>\n",
       "      <td>3020</td>\n",
       "      <td>70.186855</td>\n",
       "      <td>73</td>\n",
       "      <td>Male</td>\n",
       "      <td>Ex-smoker</td>\n",
       "      <td>test</td>\n",
       "      <td>100.0</td>\n",
       "      <td>ID00419637202311204720264_-11</td>\n",
       "      <td>...</td>\n",
       "      <td>-17.0</td>\n",
       "      <td>1</td>\n",
       "      <td>0</td>\n",
       "      <td>1</td>\n",
       "      <td>0</td>\n",
       "      <td>0</td>\n",
       "      <td>0.615385</td>\n",
       "      <td>0.3724</td>\n",
       "      <td>0.074074</td>\n",
       "      <td>0.254116</td>\n",
       "    </tr>\n",
       "    <tr>\n",
       "      <th>1542</th>\n",
       "      <td>ID00419637202311204720264</td>\n",
       "      <td>-10</td>\n",
       "      <td>3020</td>\n",
       "      <td>70.186855</td>\n",
       "      <td>73</td>\n",
       "      <td>Male</td>\n",
       "      <td>Ex-smoker</td>\n",
       "      <td>test</td>\n",
       "      <td>100.0</td>\n",
       "      <td>ID00419637202311204720264_-10</td>\n",
       "      <td>...</td>\n",
       "      <td>-16.0</td>\n",
       "      <td>1</td>\n",
       "      <td>0</td>\n",
       "      <td>1</td>\n",
       "      <td>0</td>\n",
       "      <td>0</td>\n",
       "      <td>0.615385</td>\n",
       "      <td>0.3724</td>\n",
       "      <td>0.080247</td>\n",
       "      <td>0.254116</td>\n",
       "    </tr>\n",
       "    <tr>\n",
       "      <th>1543</th>\n",
       "      <td>ID00419637202311204720264</td>\n",
       "      <td>-9</td>\n",
       "      <td>3020</td>\n",
       "      <td>70.186855</td>\n",
       "      <td>73</td>\n",
       "      <td>Male</td>\n",
       "      <td>Ex-smoker</td>\n",
       "      <td>test</td>\n",
       "      <td>100.0</td>\n",
       "      <td>ID00419637202311204720264_-9</td>\n",
       "      <td>...</td>\n",
       "      <td>-15.0</td>\n",
       "      <td>1</td>\n",
       "      <td>0</td>\n",
       "      <td>1</td>\n",
       "      <td>0</td>\n",
       "      <td>0</td>\n",
       "      <td>0.615385</td>\n",
       "      <td>0.3724</td>\n",
       "      <td>0.086420</td>\n",
       "      <td>0.254116</td>\n",
       "    </tr>\n",
       "    <tr>\n",
       "      <th>1544</th>\n",
       "      <td>ID00419637202311204720264</td>\n",
       "      <td>-8</td>\n",
       "      <td>3020</td>\n",
       "      <td>70.186855</td>\n",
       "      <td>73</td>\n",
       "      <td>Male</td>\n",
       "      <td>Ex-smoker</td>\n",
       "      <td>test</td>\n",
       "      <td>100.0</td>\n",
       "      <td>ID00419637202311204720264_-8</td>\n",
       "      <td>...</td>\n",
       "      <td>-14.0</td>\n",
       "      <td>1</td>\n",
       "      <td>0</td>\n",
       "      <td>1</td>\n",
       "      <td>0</td>\n",
       "      <td>0</td>\n",
       "      <td>0.615385</td>\n",
       "      <td>0.3724</td>\n",
       "      <td>0.092593</td>\n",
       "      <td>0.254116</td>\n",
       "    </tr>\n",
       "  </tbody>\n",
       "</table>\n",
       "<p>5 rows × 23 columns</p>\n",
       "</div>"
      ],
      "text/plain": [
       "                        Patient  Weeks   FVC    Percent  Age   Sex  \\\n",
       "1540  ID00419637202311204720264    -12  3020  70.186855   73  Male   \n",
       "1541  ID00419637202311204720264    -11  3020  70.186855   73  Male   \n",
       "1542  ID00419637202311204720264    -10  3020  70.186855   73  Male   \n",
       "1543  ID00419637202311204720264     -9  3020  70.186855   73  Male   \n",
       "1544  ID00419637202311204720264     -8  3020  70.186855   73  Male   \n",
       "\n",
       "     SmokingStatus WHERE  Confidence                   Patient_Week  ...  \\\n",
       "1540     Ex-smoker  test       100.0  ID00419637202311204720264_-12  ...   \n",
       "1541     Ex-smoker  test       100.0  ID00419637202311204720264_-11  ...   \n",
       "1542     Ex-smoker  test       100.0  ID00419637202311204720264_-10  ...   \n",
       "1543     Ex-smoker  test       100.0   ID00419637202311204720264_-9  ...   \n",
       "1544     Ex-smoker  test       100.0   ID00419637202311204720264_-8  ...   \n",
       "\n",
       "      base_week  Male  Female  Ex-smoker  Never smoked  Currently smokes  \\\n",
       "1540      -18.0     1       0          1             0                 0   \n",
       "1541      -17.0     1       0          1             0                 0   \n",
       "1542      -16.0     1       0          1             0                 0   \n",
       "1543      -15.0     1       0          1             0                 0   \n",
       "1544      -14.0     1       0          1             0                 0   \n",
       "\n",
       "           age    BASE      week   percent  \n",
       "1540  0.615385  0.3724  0.067901  0.254116  \n",
       "1541  0.615385  0.3724  0.074074  0.254116  \n",
       "1542  0.615385  0.3724  0.080247  0.254116  \n",
       "1543  0.615385  0.3724  0.086420  0.254116  \n",
       "1544  0.615385  0.3724  0.092593  0.254116  \n",
       "\n",
       "[5 rows x 23 columns]"
      ]
     },
     "execution_count": 39,
     "metadata": {},
     "output_type": "execute_result"
    }
   ],
   "source": [
    "sub.head()"
   ]
  },
  {
   "cell_type": "code",
   "execution_count": 40,
   "metadata": {
    "execution": {
     "iopub.execute_input": "2020-09-28T00:05:40.821300Z",
     "iopub.status.busy": "2020-09-28T00:05:40.820568Z",
     "iopub.status.idle": "2020-09-28T00:05:40.837506Z",
     "shell.execute_reply": "2020-09-28T00:05:40.837038Z"
    },
    "papermill": {
     "duration": 0.088043,
     "end_time": "2020-09-28T00:05:40.837611",
     "exception": false,
     "start_time": "2020-09-28T00:05:40.749568",
     "status": "completed"
    },
    "tags": []
   },
   "outputs": [
    {
     "data": {
      "text/html": [
       "<div>\n",
       "<style scoped>\n",
       "    .dataframe tbody tr th:only-of-type {\n",
       "        vertical-align: middle;\n",
       "    }\n",
       "\n",
       "    .dataframe tbody tr th {\n",
       "        vertical-align: top;\n",
       "    }\n",
       "\n",
       "    .dataframe thead th {\n",
       "        text-align: right;\n",
       "    }\n",
       "</style>\n",
       "<table border=\"1\" class=\"dataframe\">\n",
       "  <thead>\n",
       "    <tr style=\"text-align: right;\">\n",
       "      <th></th>\n",
       "      <th>Patient_Week</th>\n",
       "      <th>FVC</th>\n",
       "      <th>Confidence</th>\n",
       "      <th>FVC1</th>\n",
       "      <th>Confidence1</th>\n",
       "    </tr>\n",
       "  </thead>\n",
       "  <tbody>\n",
       "    <tr>\n",
       "      <th>1540</th>\n",
       "      <td>ID00419637202311204720264_-12</td>\n",
       "      <td>3020</td>\n",
       "      <td>100.0</td>\n",
       "      <td>2981.523743</td>\n",
       "      <td>255.633057</td>\n",
       "    </tr>\n",
       "    <tr>\n",
       "      <th>1541</th>\n",
       "      <td>ID00419637202311204720264_-11</td>\n",
       "      <td>3020</td>\n",
       "      <td>100.0</td>\n",
       "      <td>2977.862122</td>\n",
       "      <td>255.830627</td>\n",
       "    </tr>\n",
       "    <tr>\n",
       "      <th>1542</th>\n",
       "      <td>ID00419637202311204720264_-10</td>\n",
       "      <td>3020</td>\n",
       "      <td>100.0</td>\n",
       "      <td>2974.200500</td>\n",
       "      <td>256.027954</td>\n",
       "    </tr>\n",
       "    <tr>\n",
       "      <th>1543</th>\n",
       "      <td>ID00419637202311204720264_-9</td>\n",
       "      <td>3020</td>\n",
       "      <td>100.0</td>\n",
       "      <td>2970.539001</td>\n",
       "      <td>256.225281</td>\n",
       "    </tr>\n",
       "    <tr>\n",
       "      <th>1544</th>\n",
       "      <td>ID00419637202311204720264_-8</td>\n",
       "      <td>3020</td>\n",
       "      <td>100.0</td>\n",
       "      <td>2966.877380</td>\n",
       "      <td>256.422913</td>\n",
       "    </tr>\n",
       "    <tr>\n",
       "      <th>1545</th>\n",
       "      <td>ID00419637202311204720264_-7</td>\n",
       "      <td>3020</td>\n",
       "      <td>100.0</td>\n",
       "      <td>2963.215820</td>\n",
       "      <td>256.620239</td>\n",
       "    </tr>\n",
       "    <tr>\n",
       "      <th>1546</th>\n",
       "      <td>ID00419637202311204720264_-6</td>\n",
       "      <td>3020</td>\n",
       "      <td>100.0</td>\n",
       "      <td>2959.554260</td>\n",
       "      <td>256.817627</td>\n",
       "    </tr>\n",
       "    <tr>\n",
       "      <th>1547</th>\n",
       "      <td>ID00419637202311204720264_-5</td>\n",
       "      <td>3020</td>\n",
       "      <td>100.0</td>\n",
       "      <td>2955.892639</td>\n",
       "      <td>257.015015</td>\n",
       "    </tr>\n",
       "    <tr>\n",
       "      <th>1548</th>\n",
       "      <td>ID00419637202311204720264_-4</td>\n",
       "      <td>3020</td>\n",
       "      <td>100.0</td>\n",
       "      <td>2952.231140</td>\n",
       "      <td>257.212463</td>\n",
       "    </tr>\n",
       "    <tr>\n",
       "      <th>1549</th>\n",
       "      <td>ID00419637202311204720264_-3</td>\n",
       "      <td>3020</td>\n",
       "      <td>100.0</td>\n",
       "      <td>2948.569519</td>\n",
       "      <td>257.409851</td>\n",
       "    </tr>\n",
       "  </tbody>\n",
       "</table>\n",
       "</div>"
      ],
      "text/plain": [
       "                       Patient_Week   FVC  Confidence         FVC1  \\\n",
       "1540  ID00419637202311204720264_-12  3020       100.0  2981.523743   \n",
       "1541  ID00419637202311204720264_-11  3020       100.0  2977.862122   \n",
       "1542  ID00419637202311204720264_-10  3020       100.0  2974.200500   \n",
       "1543   ID00419637202311204720264_-9  3020       100.0  2970.539001   \n",
       "1544   ID00419637202311204720264_-8  3020       100.0  2966.877380   \n",
       "1545   ID00419637202311204720264_-7  3020       100.0  2963.215820   \n",
       "1546   ID00419637202311204720264_-6  3020       100.0  2959.554260   \n",
       "1547   ID00419637202311204720264_-5  3020       100.0  2955.892639   \n",
       "1548   ID00419637202311204720264_-4  3020       100.0  2952.231140   \n",
       "1549   ID00419637202311204720264_-3  3020       100.0  2948.569519   \n",
       "\n",
       "      Confidence1  \n",
       "1540   255.633057  \n",
       "1541   255.830627  \n",
       "1542   256.027954  \n",
       "1543   256.225281  \n",
       "1544   256.422913  \n",
       "1545   256.620239  \n",
       "1546   256.817627  \n",
       "1547   257.015015  \n",
       "1548   257.212463  \n",
       "1549   257.409851  "
      ]
     },
     "execution_count": 40,
     "metadata": {},
     "output_type": "execute_result"
    }
   ],
   "source": [
    "# PREDICTION\n",
    "sub['FVC1'] = 1.*pe[:, 1]\n",
    "sub['Confidence1'] = pe[:, 2] - pe[:, 0]\n",
    "subm = sub[['Patient_Week','FVC','Confidence','FVC1','Confidence1']].copy()\n",
    "subm.loc[~subm.FVC1.isnull()].head(10)"
   ]
  },
  {
   "cell_type": "code",
   "execution_count": 41,
   "metadata": {
    "execution": {
     "iopub.execute_input": "2020-09-28T00:05:40.975452Z",
     "iopub.status.busy": "2020-09-28T00:05:40.974757Z",
     "iopub.status.idle": "2020-09-28T00:05:40.978656Z",
     "shell.execute_reply": "2020-09-28T00:05:40.978127Z"
    },
    "papermill": {
     "duration": 0.079266,
     "end_time": "2020-09-28T00:05:40.978768",
     "exception": false,
     "start_time": "2020-09-28T00:05:40.899502",
     "status": "completed"
    },
    "tags": []
   },
   "outputs": [],
   "source": [
    "subm.loc[~subm.FVC1.isnull(),'FVC'] = subm.loc[~subm.FVC1.isnull(),'FVC1']\n",
    "if sigma_mean<70:\n",
    "    subm['Confidence'] = sigma_opt\n",
    "else:\n",
    "    subm.loc[~subm.FVC1.isnull(),'Confidence'] = subm.loc[~subm.FVC1.isnull(),'Confidence1']"
   ]
  },
  {
   "cell_type": "code",
   "execution_count": 42,
   "metadata": {
    "execution": {
     "iopub.execute_input": "2020-09-28T00:05:41.115696Z",
     "iopub.status.busy": "2020-09-28T00:05:41.114658Z",
     "iopub.status.idle": "2020-09-28T00:05:41.119915Z",
     "shell.execute_reply": "2020-09-28T00:05:41.119373Z"
    },
    "papermill": {
     "duration": 0.079415,
     "end_time": "2020-09-28T00:05:41.120016",
     "exception": false,
     "start_time": "2020-09-28T00:05:41.040601",
     "status": "completed"
    },
    "tags": []
   },
   "outputs": [
    {
     "data": {
      "text/html": [
       "<div>\n",
       "<style scoped>\n",
       "    .dataframe tbody tr th:only-of-type {\n",
       "        vertical-align: middle;\n",
       "    }\n",
       "\n",
       "    .dataframe tbody tr th {\n",
       "        vertical-align: top;\n",
       "    }\n",
       "\n",
       "    .dataframe thead th {\n",
       "        text-align: right;\n",
       "    }\n",
       "</style>\n",
       "<table border=\"1\" class=\"dataframe\">\n",
       "  <thead>\n",
       "    <tr style=\"text-align: right;\">\n",
       "      <th></th>\n",
       "      <th>Patient_Week</th>\n",
       "      <th>FVC</th>\n",
       "      <th>Confidence</th>\n",
       "      <th>FVC1</th>\n",
       "      <th>Confidence1</th>\n",
       "    </tr>\n",
       "  </thead>\n",
       "  <tbody>\n",
       "    <tr>\n",
       "      <th>1540</th>\n",
       "      <td>ID00419637202311204720264_-12</td>\n",
       "      <td>2981.523743</td>\n",
       "      <td>255.633057</td>\n",
       "      <td>2981.523743</td>\n",
       "      <td>255.633057</td>\n",
       "    </tr>\n",
       "    <tr>\n",
       "      <th>1541</th>\n",
       "      <td>ID00419637202311204720264_-11</td>\n",
       "      <td>2977.862122</td>\n",
       "      <td>255.830627</td>\n",
       "      <td>2977.862122</td>\n",
       "      <td>255.830627</td>\n",
       "    </tr>\n",
       "    <tr>\n",
       "      <th>1542</th>\n",
       "      <td>ID00419637202311204720264_-10</td>\n",
       "      <td>2974.200500</td>\n",
       "      <td>256.027954</td>\n",
       "      <td>2974.200500</td>\n",
       "      <td>256.027954</td>\n",
       "    </tr>\n",
       "    <tr>\n",
       "      <th>1543</th>\n",
       "      <td>ID00419637202311204720264_-9</td>\n",
       "      <td>2970.539001</td>\n",
       "      <td>256.225281</td>\n",
       "      <td>2970.539001</td>\n",
       "      <td>256.225281</td>\n",
       "    </tr>\n",
       "    <tr>\n",
       "      <th>1544</th>\n",
       "      <td>ID00419637202311204720264_-8</td>\n",
       "      <td>2966.877380</td>\n",
       "      <td>256.422913</td>\n",
       "      <td>2966.877380</td>\n",
       "      <td>256.422913</td>\n",
       "    </tr>\n",
       "  </tbody>\n",
       "</table>\n",
       "</div>"
      ],
      "text/plain": [
       "                       Patient_Week          FVC  Confidence         FVC1  \\\n",
       "1540  ID00419637202311204720264_-12  2981.523743  255.633057  2981.523743   \n",
       "1541  ID00419637202311204720264_-11  2977.862122  255.830627  2977.862122   \n",
       "1542  ID00419637202311204720264_-10  2974.200500  256.027954  2974.200500   \n",
       "1543   ID00419637202311204720264_-9  2970.539001  256.225281  2970.539001   \n",
       "1544   ID00419637202311204720264_-8  2966.877380  256.422913  2966.877380   \n",
       "\n",
       "      Confidence1  \n",
       "1540   255.633057  \n",
       "1541   255.830627  \n",
       "1542   256.027954  \n",
       "1543   256.225281  \n",
       "1544   256.422913  "
      ]
     },
     "execution_count": 42,
     "metadata": {},
     "output_type": "execute_result"
    }
   ],
   "source": [
    "subm.head()"
   ]
  },
  {
   "cell_type": "code",
   "execution_count": 43,
   "metadata": {
    "execution": {
     "iopub.execute_input": "2020-09-28T00:05:41.249914Z",
     "iopub.status.busy": "2020-09-28T00:05:41.249273Z",
     "iopub.status.idle": "2020-09-28T00:05:41.273615Z",
     "shell.execute_reply": "2020-09-28T00:05:41.272948Z"
    },
    "papermill": {
     "duration": 0.092377,
     "end_time": "2020-09-28T00:05:41.273761",
     "exception": false,
     "start_time": "2020-09-28T00:05:41.181384",
     "status": "completed"
    },
    "tags": []
   },
   "outputs": [
    {
     "data": {
      "text/html": [
       "<div>\n",
       "<style scoped>\n",
       "    .dataframe tbody tr th:only-of-type {\n",
       "        vertical-align: middle;\n",
       "    }\n",
       "\n",
       "    .dataframe tbody tr th {\n",
       "        vertical-align: top;\n",
       "    }\n",
       "\n",
       "    .dataframe thead th {\n",
       "        text-align: right;\n",
       "    }\n",
       "</style>\n",
       "<table border=\"1\" class=\"dataframe\">\n",
       "  <thead>\n",
       "    <tr style=\"text-align: right;\">\n",
       "      <th></th>\n",
       "      <th>count</th>\n",
       "      <th>mean</th>\n",
       "      <th>std</th>\n",
       "      <th>min</th>\n",
       "      <th>25%</th>\n",
       "      <th>50%</th>\n",
       "      <th>75%</th>\n",
       "      <th>max</th>\n",
       "    </tr>\n",
       "  </thead>\n",
       "  <tbody>\n",
       "    <tr>\n",
       "      <th>FVC</th>\n",
       "      <td>730.0</td>\n",
       "      <td>2609.347040</td>\n",
       "      <td>377.543145</td>\n",
       "      <td>1906.272644</td>\n",
       "      <td>2460.079926</td>\n",
       "      <td>2663.565491</td>\n",
       "      <td>2861.884521</td>\n",
       "      <td>3323.345093</td>\n",
       "    </tr>\n",
       "    <tr>\n",
       "      <th>Confidence</th>\n",
       "      <td>730.0</td>\n",
       "      <td>264.679032</td>\n",
       "      <td>20.084617</td>\n",
       "      <td>221.811066</td>\n",
       "      <td>252.436188</td>\n",
       "      <td>269.289215</td>\n",
       "      <td>278.666908</td>\n",
       "      <td>301.526917</td>\n",
       "    </tr>\n",
       "    <tr>\n",
       "      <th>FVC1</th>\n",
       "      <td>730.0</td>\n",
       "      <td>2609.347040</td>\n",
       "      <td>377.543145</td>\n",
       "      <td>1906.272644</td>\n",
       "      <td>2460.079926</td>\n",
       "      <td>2663.565491</td>\n",
       "      <td>2861.884521</td>\n",
       "      <td>3323.345093</td>\n",
       "    </tr>\n",
       "    <tr>\n",
       "      <th>Confidence1</th>\n",
       "      <td>730.0</td>\n",
       "      <td>264.679032</td>\n",
       "      <td>20.084617</td>\n",
       "      <td>221.811066</td>\n",
       "      <td>252.436188</td>\n",
       "      <td>269.289215</td>\n",
       "      <td>278.666908</td>\n",
       "      <td>301.526917</td>\n",
       "    </tr>\n",
       "  </tbody>\n",
       "</table>\n",
       "</div>"
      ],
      "text/plain": [
       "             count         mean         std          min          25%  \\\n",
       "FVC          730.0  2609.347040  377.543145  1906.272644  2460.079926   \n",
       "Confidence   730.0   264.679032   20.084617   221.811066   252.436188   \n",
       "FVC1         730.0  2609.347040  377.543145  1906.272644  2460.079926   \n",
       "Confidence1  730.0   264.679032   20.084617   221.811066   252.436188   \n",
       "\n",
       "                     50%          75%          max  \n",
       "FVC          2663.565491  2861.884521  3323.345093  \n",
       "Confidence    269.289215   278.666908   301.526917  \n",
       "FVC1         2663.565491  2861.884521  3323.345093  \n",
       "Confidence1   269.289215   278.666908   301.526917  "
      ]
     },
     "execution_count": 43,
     "metadata": {},
     "output_type": "execute_result"
    }
   ],
   "source": [
    "subm.describe().T"
   ]
  },
  {
   "cell_type": "code",
   "execution_count": 44,
   "metadata": {
    "execution": {
     "iopub.execute_input": "2020-09-28T00:05:41.422963Z",
     "iopub.status.busy": "2020-09-28T00:05:41.407460Z",
     "iopub.status.idle": "2020-09-28T00:05:41.439211Z",
     "shell.execute_reply": "2020-09-28T00:05:41.438572Z"
    },
    "papermill": {
     "duration": 0.102915,
     "end_time": "2020-09-28T00:05:41.439322",
     "exception": false,
     "start_time": "2020-09-28T00:05:41.336407",
     "status": "completed"
    },
    "tags": []
   },
   "outputs": [],
   "source": [
    "otest = pd.read_csv('../input/osic-pulmonary-fibrosis-progression/test.csv')\n",
    "for i in range(len(otest)):\n",
    "    subm.loc[subm['Patient_Week']==otest.Patient[i]+'_'+str(otest.Weeks[i]), 'FVC'] = otest.FVC[i]\n",
    "    subm.loc[subm['Patient_Week']==otest.Patient[i]+'_'+str(otest.Weeks[i]), 'Confidence'] = 0.1"
   ]
  },
  {
   "cell_type": "code",
   "execution_count": 45,
   "metadata": {
    "execution": {
     "iopub.execute_input": "2020-09-28T00:05:41.570142Z",
     "iopub.status.busy": "2020-09-28T00:05:41.569215Z",
     "iopub.status.idle": "2020-09-28T00:05:41.578795Z",
     "shell.execute_reply": "2020-09-28T00:05:41.578175Z"
    },
    "papermill": {
     "duration": 0.076665,
     "end_time": "2020-09-28T00:05:41.578893",
     "exception": false,
     "start_time": "2020-09-28T00:05:41.502228",
     "status": "completed"
    },
    "tags": []
   },
   "outputs": [],
   "source": [
    "subm[[\"Patient_Week\",\"FVC\",\"Confidence\"]].to_csv(\"submission_regression.csv\", index=False)"
   ]
  },
  {
   "cell_type": "code",
   "execution_count": 46,
   "metadata": {
    "execution": {
     "iopub.execute_input": "2020-09-28T00:05:41.708586Z",
     "iopub.status.busy": "2020-09-28T00:05:41.707958Z",
     "iopub.status.idle": "2020-09-28T00:05:41.710886Z",
     "shell.execute_reply": "2020-09-28T00:05:41.711319Z"
    },
    "papermill": {
     "duration": 0.070923,
     "end_time": "2020-09-28T00:05:41.711430",
     "exception": false,
     "start_time": "2020-09-28T00:05:41.640507",
     "status": "completed"
    },
    "tags": []
   },
   "outputs": [],
   "source": [
    "reg_sub = subm[[\"Patient_Week\",\"FVC\",\"Confidence\"]].copy()"
   ]
  },
  {
   "cell_type": "markdown",
   "metadata": {
    "papermill": {
     "duration": 0.062252,
     "end_time": "2020-09-28T00:05:41.837312",
     "exception": false,
     "start_time": "2020-09-28T00:05:41.775060",
     "status": "completed"
    },
    "tags": []
   },
   "source": [
    "# Ensemble (Simple Blend)"
   ]
  },
  {
   "cell_type": "code",
   "execution_count": 47,
   "metadata": {
    "execution": {
     "iopub.execute_input": "2020-09-28T00:05:41.967992Z",
     "iopub.status.busy": "2020-09-28T00:05:41.967308Z",
     "iopub.status.idle": "2020-09-28T00:05:41.974167Z",
     "shell.execute_reply": "2020-09-28T00:05:41.973574Z"
    },
    "papermill": {
     "duration": 0.074453,
     "end_time": "2020-09-28T00:05:41.974258",
     "exception": false,
     "start_time": "2020-09-28T00:05:41.899805",
     "status": "completed"
    },
    "tags": []
   },
   "outputs": [],
   "source": [
    "df1 = img_sub.sort_values(by=['Patient_Week'], ascending=True).reset_index(drop=True)\n",
    "df2 = reg_sub.sort_values(by=['Patient_Week'], ascending=True).reset_index(drop=True)"
   ]
  },
  {
   "cell_type": "code",
   "execution_count": 48,
   "metadata": {
    "execution": {
     "iopub.execute_input": "2020-09-28T00:05:42.115551Z",
     "iopub.status.busy": "2020-09-28T00:05:42.108826Z",
     "iopub.status.idle": "2020-09-28T00:05:42.121502Z",
     "shell.execute_reply": "2020-09-28T00:05:42.121011Z"
    },
    "papermill": {
     "duration": 0.084842,
     "end_time": "2020-09-28T00:05:42.121592",
     "exception": false,
     "start_time": "2020-09-28T00:05:42.036750",
     "status": "completed"
    },
    "tags": []
   },
   "outputs": [
    {
     "data": {
      "text/html": [
       "<div>\n",
       "<style scoped>\n",
       "    .dataframe tbody tr th:only-of-type {\n",
       "        vertical-align: middle;\n",
       "    }\n",
       "\n",
       "    .dataframe tbody tr th {\n",
       "        vertical-align: top;\n",
       "    }\n",
       "\n",
       "    .dataframe thead th {\n",
       "        text-align: right;\n",
       "    }\n",
       "</style>\n",
       "<table border=\"1\" class=\"dataframe\">\n",
       "  <thead>\n",
       "    <tr style=\"text-align: right;\">\n",
       "      <th></th>\n",
       "      <th>Patient_Week</th>\n",
       "      <th>FVC</th>\n",
       "      <th>Confidence</th>\n",
       "    </tr>\n",
       "  </thead>\n",
       "  <tbody>\n",
       "    <tr>\n",
       "      <th>0</th>\n",
       "      <td>ID00419637202311204720264_-1</td>\n",
       "      <td>2989.436906</td>\n",
       "      <td>210.020284</td>\n",
       "    </tr>\n",
       "    <tr>\n",
       "      <th>1</th>\n",
       "      <td>ID00419637202311204720264_-10</td>\n",
       "      <td>3023.956378</td>\n",
       "      <td>219.706360</td>\n",
       "    </tr>\n",
       "    <tr>\n",
       "      <th>2</th>\n",
       "      <td>ID00419637202311204720264_-11</td>\n",
       "      <td>3027.791901</td>\n",
       "      <td>220.782652</td>\n",
       "    </tr>\n",
       "    <tr>\n",
       "      <th>3</th>\n",
       "      <td>ID00419637202311204720264_-12</td>\n",
       "      <td>3031.627424</td>\n",
       "      <td>221.858773</td>\n",
       "    </tr>\n",
       "    <tr>\n",
       "      <th>4</th>\n",
       "      <td>ID00419637202311204720264_-2</td>\n",
       "      <td>2993.272463</td>\n",
       "      <td>211.096449</td>\n",
       "    </tr>\n",
       "  </tbody>\n",
       "</table>\n",
       "</div>"
      ],
      "text/plain": [
       "                    Patient_Week          FVC  Confidence\n",
       "0   ID00419637202311204720264_-1  2989.436906  210.020284\n",
       "1  ID00419637202311204720264_-10  3023.956378  219.706360\n",
       "2  ID00419637202311204720264_-11  3027.791901  220.782652\n",
       "3  ID00419637202311204720264_-12  3031.627424  221.858773\n",
       "4   ID00419637202311204720264_-2  2993.272463  211.096449"
      ]
     },
     "execution_count": 48,
     "metadata": {},
     "output_type": "execute_result"
    }
   ],
   "source": [
    "df = df1[['Patient_Week']].copy()\n",
    "df['FVC'] = FVC_WEIGHT*df1['FVC'] + (1 - FVC_WEIGHT)*df2['FVC']\n",
    "df['Confidence'] = CONFIDENCE_WEIGHT*df1['Confidence'] + (1 - CONFIDENCE_WEIGHT)*df2['Confidence']\n",
    "df.head()"
   ]
  },
  {
   "cell_type": "code",
   "execution_count": 49,
   "metadata": {
    "execution": {
     "iopub.execute_input": "2020-09-28T00:05:42.253223Z",
     "iopub.status.busy": "2020-09-28T00:05:42.252281Z",
     "iopub.status.idle": "2020-09-28T00:05:42.261460Z",
     "shell.execute_reply": "2020-09-28T00:05:42.260955Z"
    },
    "papermill": {
     "duration": 0.076717,
     "end_time": "2020-09-28T00:05:42.261555",
     "exception": false,
     "start_time": "2020-09-28T00:05:42.184838",
     "status": "completed"
    },
    "tags": []
   },
   "outputs": [],
   "source": [
    "df.to_csv('submission.csv', index=False)"
   ]
  },
  {
   "cell_type": "code",
   "execution_count": 50,
   "metadata": {
    "execution": {
     "iopub.execute_input": "2020-09-28T00:05:42.393831Z",
     "iopub.status.busy": "2020-09-28T00:05:42.392219Z",
     "iopub.status.idle": "2020-09-28T00:05:42.396523Z",
     "shell.execute_reply": "2020-09-28T00:05:42.396019Z"
    },
    "papermill": {
     "duration": 0.072138,
     "end_time": "2020-09-28T00:05:42.396610",
     "exception": false,
     "start_time": "2020-09-28T00:05:42.324472",
     "status": "completed"
    },
    "tags": []
   },
   "outputs": [
    {
     "data": {
      "text/plain": [
       "['osic-pulmonary-fibrosis-progression',\n",
       " 'kerasapplications',\n",
       " 'osic-pulmonary-fibrosis-progression-lungs-mask',\n",
       " 'osic-model-weights',\n",
       " 'efficientnet']"
      ]
     },
     "execution_count": 50,
     "metadata": {},
     "output_type": "execute_result"
    }
   ],
   "source": [
    "os.listdir('../input')"
   ]
  }
 ],
 "metadata": {
  "kernelspec": {
   "display_name": "Python 3",
   "language": "python",
   "name": "python3"
  },
  "language_info": {
   "codemirror_mode": {
    "name": "ipython",
    "version": 3
   },
   "file_extension": ".py",
   "mimetype": "text/x-python",
   "name": "python",
   "nbconvert_exporter": "python",
   "pygments_lexer": "ipython3",
   "version": "3.7.6"
  },
  "papermill": {
   "duration": 1761.475772,
   "end_time": "2020-09-28T00:05:43.476311",
   "environment_variables": {},
   "exception": null,
   "input_path": "__notebook__.ipynb",
   "output_path": "__notebook__.ipynb",
   "parameters": {},
   "start_time": "2020-09-27T23:36:22.000539",
   "version": "2.1.0"
  },
  "widgets": {
   "application/vnd.jupyter.widget-state+json": {
    "state": {
     "2876bc2dcfda4e6d832744738b601cc2": {
      "model_module": "@jupyter-widgets/controls",
      "model_module_version": "1.5.0",
      "model_name": "ProgressStyleModel",
      "state": {
       "_model_module": "@jupyter-widgets/controls",
       "_model_module_version": "1.5.0",
       "_model_name": "ProgressStyleModel",
       "_view_count": null,
       "_view_module": "@jupyter-widgets/base",
       "_view_module_version": "1.2.0",
       "_view_name": "StyleView",
       "bar_color": null,
       "description_width": "initial"
      }
     },
     "2bbf8468fb084228999d79942ba76fb6": {
      "model_module": "@jupyter-widgets/base",
      "model_module_version": "1.2.0",
      "model_name": "LayoutModel",
      "state": {
       "_model_module": "@jupyter-widgets/base",
       "_model_module_version": "1.2.0",
       "_model_name": "LayoutModel",
       "_view_count": null,
       "_view_module": "@jupyter-widgets/base",
       "_view_module_version": "1.2.0",
       "_view_name": "LayoutView",
       "align_content": null,
       "align_items": null,
       "align_self": null,
       "border": null,
       "bottom": null,
       "display": null,
       "flex": null,
       "flex_flow": null,
       "grid_area": null,
       "grid_auto_columns": null,
       "grid_auto_flow": null,
       "grid_auto_rows": null,
       "grid_column": null,
       "grid_gap": null,
       "grid_row": null,
       "grid_template_areas": null,
       "grid_template_columns": null,
       "grid_template_rows": null,
       "height": null,
       "justify_content": null,
       "justify_items": null,
       "left": null,
       "margin": null,
       "max_height": null,
       "max_width": null,
       "min_height": null,
       "min_width": null,
       "object_fit": null,
       "object_position": null,
       "order": null,
       "overflow": null,
       "overflow_x": null,
       "overflow_y": null,
       "padding": null,
       "right": null,
       "top": null,
       "visibility": null,
       "width": null
      }
     },
     "2f4c08fe7ca147b1aad705b5d094f1d4": {
      "model_module": "@jupyter-widgets/controls",
      "model_module_version": "1.5.0",
      "model_name": "DescriptionStyleModel",
      "state": {
       "_model_module": "@jupyter-widgets/controls",
       "_model_module_version": "1.5.0",
       "_model_name": "DescriptionStyleModel",
       "_view_count": null,
       "_view_module": "@jupyter-widgets/base",
       "_view_module_version": "1.2.0",
       "_view_name": "StyleView",
       "description_width": ""
      }
     },
     "32336c044b6a42c8b906b3caac21a82d": {
      "model_module": "@jupyter-widgets/controls",
      "model_module_version": "1.5.0",
      "model_name": "DescriptionStyleModel",
      "state": {
       "_model_module": "@jupyter-widgets/controls",
       "_model_module_version": "1.5.0",
       "_model_name": "DescriptionStyleModel",
       "_view_count": null,
       "_view_module": "@jupyter-widgets/base",
       "_view_module_version": "1.2.0",
       "_view_name": "StyleView",
       "description_width": ""
      }
     },
     "51f37e6e6a584f23b9a619b62cf4e324": {
      "model_module": "@jupyter-widgets/controls",
      "model_module_version": "1.5.0",
      "model_name": "ProgressStyleModel",
      "state": {
       "_model_module": "@jupyter-widgets/controls",
       "_model_module_version": "1.5.0",
       "_model_name": "ProgressStyleModel",
       "_view_count": null,
       "_view_module": "@jupyter-widgets/base",
       "_view_module_version": "1.2.0",
       "_view_name": "StyleView",
       "bar_color": null,
       "description_width": "initial"
      }
     },
     "571f82af823c492fa39ce92943a1bbba": {
      "model_module": "@jupyter-widgets/base",
      "model_module_version": "1.2.0",
      "model_name": "LayoutModel",
      "state": {
       "_model_module": "@jupyter-widgets/base",
       "_model_module_version": "1.2.0",
       "_model_name": "LayoutModel",
       "_view_count": null,
       "_view_module": "@jupyter-widgets/base",
       "_view_module_version": "1.2.0",
       "_view_name": "LayoutView",
       "align_content": null,
       "align_items": null,
       "align_self": null,
       "border": null,
       "bottom": null,
       "display": null,
       "flex": null,
       "flex_flow": null,
       "grid_area": null,
       "grid_auto_columns": null,
       "grid_auto_flow": null,
       "grid_auto_rows": null,
       "grid_column": null,
       "grid_gap": null,
       "grid_row": null,
       "grid_template_areas": null,
       "grid_template_columns": null,
       "grid_template_rows": null,
       "height": null,
       "justify_content": null,
       "justify_items": null,
       "left": null,
       "margin": null,
       "max_height": null,
       "max_width": null,
       "min_height": null,
       "min_width": null,
       "object_fit": null,
       "object_position": null,
       "order": null,
       "overflow": null,
       "overflow_x": null,
       "overflow_y": null,
       "padding": null,
       "right": null,
       "top": null,
       "visibility": null,
       "width": null
      }
     },
     "6045250387024f3db67ae44b2878f67a": {
      "model_module": "@jupyter-widgets/base",
      "model_module_version": "1.2.0",
      "model_name": "LayoutModel",
      "state": {
       "_model_module": "@jupyter-widgets/base",
       "_model_module_version": "1.2.0",
       "_model_name": "LayoutModel",
       "_view_count": null,
       "_view_module": "@jupyter-widgets/base",
       "_view_module_version": "1.2.0",
       "_view_name": "LayoutView",
       "align_content": null,
       "align_items": null,
       "align_self": null,
       "border": null,
       "bottom": null,
       "display": null,
       "flex": null,
       "flex_flow": null,
       "grid_area": null,
       "grid_auto_columns": null,
       "grid_auto_flow": null,
       "grid_auto_rows": null,
       "grid_column": null,
       "grid_gap": null,
       "grid_row": null,
       "grid_template_areas": null,
       "grid_template_columns": null,
       "grid_template_rows": null,
       "height": null,
       "justify_content": null,
       "justify_items": null,
       "left": null,
       "margin": null,
       "max_height": null,
       "max_width": null,
       "min_height": null,
       "min_width": null,
       "object_fit": null,
       "object_position": null,
       "order": null,
       "overflow": null,
       "overflow_x": null,
       "overflow_y": null,
       "padding": null,
       "right": null,
       "top": null,
       "visibility": null,
       "width": null
      }
     },
     "61645357b73443db8bd624596535798d": {
      "model_module": "@jupyter-widgets/base",
      "model_module_version": "1.2.0",
      "model_name": "LayoutModel",
      "state": {
       "_model_module": "@jupyter-widgets/base",
       "_model_module_version": "1.2.0",
       "_model_name": "LayoutModel",
       "_view_count": null,
       "_view_module": "@jupyter-widgets/base",
       "_view_module_version": "1.2.0",
       "_view_name": "LayoutView",
       "align_content": null,
       "align_items": null,
       "align_self": null,
       "border": null,
       "bottom": null,
       "display": null,
       "flex": null,
       "flex_flow": null,
       "grid_area": null,
       "grid_auto_columns": null,
       "grid_auto_flow": null,
       "grid_auto_rows": null,
       "grid_column": null,
       "grid_gap": null,
       "grid_row": null,
       "grid_template_areas": null,
       "grid_template_columns": null,
       "grid_template_rows": null,
       "height": null,
       "justify_content": null,
       "justify_items": null,
       "left": null,
       "margin": null,
       "max_height": null,
       "max_width": null,
       "min_height": null,
       "min_width": null,
       "object_fit": null,
       "object_position": null,
       "order": null,
       "overflow": null,
       "overflow_x": null,
       "overflow_y": null,
       "padding": null,
       "right": null,
       "top": null,
       "visibility": null,
       "width": null
      }
     },
     "6ff63623c8654c868b1fbc8b8faa2a65": {
      "model_module": "@jupyter-widgets/controls",
      "model_module_version": "1.5.0",
      "model_name": "HBoxModel",
      "state": {
       "_dom_classes": [],
       "_model_module": "@jupyter-widgets/controls",
       "_model_module_version": "1.5.0",
       "_model_name": "HBoxModel",
       "_view_count": null,
       "_view_module": "@jupyter-widgets/controls",
       "_view_module_version": "1.5.0",
       "_view_name": "HBoxView",
       "box_style": "",
       "children": [
        "IPY_MODEL_d49e5291bb0f4ef288c02f0739f98819",
        "IPY_MODEL_c56b6bcbdcca4235926ca5037177d89a"
       ],
       "layout": "IPY_MODEL_61645357b73443db8bd624596535798d"
      }
     },
     "8eb66598b7a645d78251761da6550b77": {
      "model_module": "@jupyter-widgets/controls",
      "model_module_version": "1.5.0",
      "model_name": "FloatProgressModel",
      "state": {
       "_dom_classes": [],
       "_model_module": "@jupyter-widgets/controls",
       "_model_module_version": "1.5.0",
       "_model_name": "FloatProgressModel",
       "_view_count": null,
       "_view_module": "@jupyter-widgets/controls",
       "_view_module_version": "1.5.0",
       "_view_name": "ProgressView",
       "bar_style": "success",
       "description": "100%",
       "description_tooltip": null,
       "layout": "IPY_MODEL_9ee3504c40f34a6f8c3857eb8ef00caf",
       "max": 9.0,
       "min": 0.0,
       "orientation": "horizontal",
       "style": "IPY_MODEL_2876bc2dcfda4e6d832744738b601cc2",
       "value": 9.0
      }
     },
     "9ee3504c40f34a6f8c3857eb8ef00caf": {
      "model_module": "@jupyter-widgets/base",
      "model_module_version": "1.2.0",
      "model_name": "LayoutModel",
      "state": {
       "_model_module": "@jupyter-widgets/base",
       "_model_module_version": "1.2.0",
       "_model_name": "LayoutModel",
       "_view_count": null,
       "_view_module": "@jupyter-widgets/base",
       "_view_module_version": "1.2.0",
       "_view_name": "LayoutView",
       "align_content": null,
       "align_items": null,
       "align_self": null,
       "border": null,
       "bottom": null,
       "display": null,
       "flex": null,
       "flex_flow": null,
       "grid_area": null,
       "grid_auto_columns": null,
       "grid_auto_flow": null,
       "grid_auto_rows": null,
       "grid_column": null,
       "grid_gap": null,
       "grid_row": null,
       "grid_template_areas": null,
       "grid_template_columns": null,
       "grid_template_rows": null,
       "height": null,
       "justify_content": null,
       "justify_items": null,
       "left": null,
       "margin": null,
       "max_height": null,
       "max_width": null,
       "min_height": null,
       "min_width": null,
       "object_fit": null,
       "object_position": null,
       "order": null,
       "overflow": null,
       "overflow_x": null,
       "overflow_y": null,
       "padding": null,
       "right": null,
       "top": null,
       "visibility": null,
       "width": null
      }
     },
     "ab25d2b75ffb44bc9b09a2b076cd3176": {
      "model_module": "@jupyter-widgets/controls",
      "model_module_version": "1.5.0",
      "model_name": "HBoxModel",
      "state": {
       "_dom_classes": [],
       "_model_module": "@jupyter-widgets/controls",
       "_model_module_version": "1.5.0",
       "_model_name": "HBoxModel",
       "_view_count": null,
       "_view_module": "@jupyter-widgets/controls",
       "_view_module_version": "1.5.0",
       "_view_name": "HBoxView",
       "box_style": "",
       "children": [
        "IPY_MODEL_8eb66598b7a645d78251761da6550b77",
        "IPY_MODEL_b019335e55824dbfbc323aacc9d9e84b"
       ],
       "layout": "IPY_MODEL_2bbf8468fb084228999d79942ba76fb6"
      }
     },
     "b019335e55824dbfbc323aacc9d9e84b": {
      "model_module": "@jupyter-widgets/controls",
      "model_module_version": "1.5.0",
      "model_name": "HTMLModel",
      "state": {
       "_dom_classes": [],
       "_model_module": "@jupyter-widgets/controls",
       "_model_module_version": "1.5.0",
       "_model_name": "HTMLModel",
       "_view_count": null,
       "_view_module": "@jupyter-widgets/controls",
       "_view_module_version": "1.5.0",
       "_view_name": "HTMLView",
       "description": "",
       "description_tooltip": null,
       "layout": "IPY_MODEL_ec19b700abe445a498374b334ced50fc",
       "placeholder": "​",
       "style": "IPY_MODEL_2f4c08fe7ca147b1aad705b5d094f1d4",
       "value": " 9/9 [23:00&lt;00:00, 153.41s/it]"
      }
     },
     "c56b6bcbdcca4235926ca5037177d89a": {
      "model_module": "@jupyter-widgets/controls",
      "model_module_version": "1.5.0",
      "model_name": "HTMLModel",
      "state": {
       "_dom_classes": [],
       "_model_module": "@jupyter-widgets/controls",
       "_model_module_version": "1.5.0",
       "_model_name": "HTMLModel",
       "_view_count": null,
       "_view_module": "@jupyter-widgets/controls",
       "_view_module_version": "1.5.0",
       "_view_name": "HTMLView",
       "description": "",
       "description_tooltip": null,
       "layout": "IPY_MODEL_571f82af823c492fa39ce92943a1bbba",
       "placeholder": "​",
       "style": "IPY_MODEL_32336c044b6a42c8b906b3caac21a82d",
       "value": " 176/? [00:00&lt;00:00, 243.34it/s]"
      }
     },
     "d49e5291bb0f4ef288c02f0739f98819": {
      "model_module": "@jupyter-widgets/controls",
      "model_module_version": "1.5.0",
      "model_name": "FloatProgressModel",
      "state": {
       "_dom_classes": [],
       "_model_module": "@jupyter-widgets/controls",
       "_model_module_version": "1.5.0",
       "_model_name": "FloatProgressModel",
       "_view_count": null,
       "_view_module": "@jupyter-widgets/controls",
       "_view_module_version": "1.5.0",
       "_view_name": "ProgressView",
       "bar_style": "success",
       "description": "",
       "description_tooltip": null,
       "layout": "IPY_MODEL_6045250387024f3db67ae44b2878f67a",
       "max": 1.0,
       "min": 0.0,
       "orientation": "horizontal",
       "style": "IPY_MODEL_51f37e6e6a584f23b9a619b62cf4e324",
       "value": 1.0
      }
     },
     "ec19b700abe445a498374b334ced50fc": {
      "model_module": "@jupyter-widgets/base",
      "model_module_version": "1.2.0",
      "model_name": "LayoutModel",
      "state": {
       "_model_module": "@jupyter-widgets/base",
       "_model_module_version": "1.2.0",
       "_model_name": "LayoutModel",
       "_view_count": null,
       "_view_module": "@jupyter-widgets/base",
       "_view_module_version": "1.2.0",
       "_view_name": "LayoutView",
       "align_content": null,
       "align_items": null,
       "align_self": null,
       "border": null,
       "bottom": null,
       "display": null,
       "flex": null,
       "flex_flow": null,
       "grid_area": null,
       "grid_auto_columns": null,
       "grid_auto_flow": null,
       "grid_auto_rows": null,
       "grid_column": null,
       "grid_gap": null,
       "grid_row": null,
       "grid_template_areas": null,
       "grid_template_columns": null,
       "grid_template_rows": null,
       "height": null,
       "justify_content": null,
       "justify_items": null,
       "left": null,
       "margin": null,
       "max_height": null,
       "max_width": null,
       "min_height": null,
       "min_width": null,
       "object_fit": null,
       "object_position": null,
       "order": null,
       "overflow": null,
       "overflow_x": null,
       "overflow_y": null,
       "padding": null,
       "right": null,
       "top": null,
       "visibility": null,
       "width": null
      }
     }
    },
    "version_major": 2,
    "version_minor": 0
   }
  }
 },
 "nbformat": 4,
 "nbformat_minor": 4
}
